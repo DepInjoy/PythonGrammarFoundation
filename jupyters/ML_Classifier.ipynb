{
 "cells": [
  {
   "attachments": {},
   "cell_type": "markdown",
   "metadata": {},
   "source": [
    "# 机器学习之分类算法\n",
    "分类：\n",
    "- 逻辑回归\n",
    "- 神经网络\n",
    "\n",
    "\n",
    "####\n",
    "\n",
    "####\n",
    "\n",
    "## 支持向量机\n",
    "\n",
    "\n",
    "首先，导入实验用的数据"
   ]
  },
  {
   "cell_type": "markdown",
   "metadata": {},
   "source": [
    "## 决策树\n",
    "\n",
    "### 决策树的超参数\n",
    "- `max_depth`：树中的最大层级数量。\n",
    "- `min_samples_leaf`：叶子允许的最低样本数量。\n",
    "- `min_samples_split`：拆分内部节点所需的最低样本数量。\n",
    "- `max_features`：寻找最佳拆分方法时要考虑的特征数量。\n",
    " \n",
    "#### 最大深度\n",
    "决策树的最大深度就是从根到叶之间可能的最大长度。一个最大深度为k的决策树最多有 2^k个叶子。\n",
    "![决策树的最大深度](img/ML_Classifier/决策树的最大深度.png)\n",
    "\n",
    "#### 最少样本分割数\n",
    "一个节点必须至少有min_samples_split个样本才能足够大以进行拆分。如果一个节点的样本数少于min_samples_split 个， 则分割过程停止，该节点不会被分割，且min_samples_split 不会控制叶的最小尺寸\n",
    "![最小样本分割数](img/ML_Classifier/最小样本分割数.png)\n",
    "\n",
    "#### 每片叶子的最小样本数\n",
    "当分割一个节点时，可能会遇到的一个问题是分割不均匀，例如某个子节点有99个样本，另一个子节点可能只有1个样本。这会影响决策树的生成，也浪费计算资源和时间。为避免这种情况，我们可以为每个叶子上允许的样本数设置一个最小值。该参数可以被指定为整数或浮点数，整数代表这片叶子上的最小样本数，浮点数则代表每片叶子傻瓜最小样本的比例，如0.1一片叶子上的样本数量小于该节点中样本数量的10%，则分裂停止。\n",
    "![每片叶子的最小样本数](img/ML_Classifier/每片叶子的最小样本数.png)\n",
    "\n",
    "#### 每次分裂的最小样本数\n",
    "该参数与每片叶子上的最小样本树相同，只不过是应用在节点的分裂当中。\n",
    "\n",
    "#### 最大特征数\n",
    "有时，我们会遇到特征数量过于庞大，而无法建立决策树的情况。在这种状况下，对于每一个分裂，我们都需要检查整个数据集中的每一个特征。这种过程极为繁琐。而解决方案之一是限制每个分裂中查找的特征数。如果这个数字足够庞大，我们很有可能在查找的特征中找到良好特征（尽管也许并不是完美特征）。然而，如果这个数字小于特征数，这将极大加快我们的计算速度。\n",
    "\n",
    "|过拟合|欠拟合|\n",
    "|:---:|:---:|\n",
    "|过大的深度|太小的深度|\n",
    "|每片叶子的最小样本数太少|每片叶子的最小样本数太多|\n",
    "\n"
   ]
  },
  {
   "cell_type": "code",
   "execution_count": 1,
   "metadata": {},
   "outputs": [],
   "source": [
    "import pandas as pd\n",
    "import numpy as np\n",
    "\n",
    "data = pd.read_csv('data/classifier_1.csv')\n",
    "X = np.array(data[['x1', 'x2']])\n",
    "y = np.array(data['y'])"
   ]
  },
  {
   "cell_type": "markdown",
   "metadata": {},
   "source": [
    "测试集和数据集拆分"
   ]
  },
  {
   "cell_type": "code",
   "execution_count": 2,
   "metadata": {},
   "outputs": [],
   "source": [
    "from sklearn.model_selection import train_test_split\n",
    "'''\n",
    "训练集和测试机数据拆分\n",
    "\n",
    "输入:\n",
    "    test_size:测试数据占比\n",
    "\n",
    "返回\n",
    "    X_train：训练输入数据\n",
    "    X_test： 测试输入数据\n",
    "    y_train：训练标签\n",
    "    y_test： 测试标签\n",
    "'''\n",
    "X_train, X_test, y_train, y_test = train_test_split(\n",
    "    X, \n",
    "    y, \n",
    "    test_size = 0.25,\n",
    "    random_state=42\n",
    ")"
   ]
  },
  {
   "cell_type": "markdown",
   "metadata": {},
   "source": [
    "## 逻辑回归"
   ]
  },
  {
   "cell_type": "markdown",
   "metadata": {},
   "source": [
    "定义分类器并将分类器和数据拟合"
   ]
  },
  {
   "cell_type": "code",
   "execution_count": 63,
   "metadata": {},
   "outputs": [
    {
     "data": {
      "text/plain": [
       "LogisticRegression(C=1.0, class_weight=None, dual=False, fit_intercept=True,\n",
       "          intercept_scaling=1, max_iter=100, multi_class='ovr', n_jobs=1,\n",
       "          penalty='l2', random_state=None, solver='liblinear', tol=0.0001,\n",
       "          verbose=0, warm_start=False)"
      ]
     },
     "execution_count": 63,
     "metadata": {},
     "output_type": "execute_result"
    }
   ],
   "source": [
    "from sklearn.linear_model import LogisticRegression\n",
    "\n",
    "classifier = LogisticRegression()\n",
    "classifier.fit(X, y)"
   ]
  },
  {
   "cell_type": "markdown",
   "metadata": {},
   "source": [
    "## 决策树"
   ]
  },
  {
   "cell_type": "code",
   "execution_count": 60,
   "metadata": {},
   "outputs": [
    {
     "data": {
      "text/plain": [
       "DecisionTreeClassifier(class_weight=None, criterion='gini', max_depth=None,\n",
       "            max_features=None, max_leaf_nodes=None,\n",
       "            min_impurity_decrease=0.0, min_impurity_split=None,\n",
       "            min_samples_leaf=1, min_samples_split=2,\n",
       "            min_weight_fraction_leaf=0.0, presort=False, random_state=None,\n",
       "            splitter='best')"
      ]
     },
     "execution_count": 60,
     "metadata": {},
     "output_type": "execute_result"
    }
   ],
   "source": [
    "from sklearn.tree import DecisionTreeClassifier\n",
    "\n",
    "classifier= DecisionTreeClassifier()\n",
    "classifier.fit(X, y)"
   ]
  },
  {
   "cell_type": "code",
   "execution_count": null,
   "metadata": {},
   "outputs": [],
   "source": [
    "from sklearn.ensemble import GradientBoostingClassifier\n",
    "\n",
    "classifier = GradientBoostingClassifier()"
   ]
  },
  {
   "cell_type": "markdown",
   "metadata": {},
   "source": [
    "### 支持向量机\n",
    "```\n",
    "SVC(kernel = 'rbf', gamma = 200, degree = None, C = None)\n",
    "```\n",
    "- kernel：linear (线性)， poly（多项式）, rbf（高斯核）\n",
    "- degree：多项式内核的次数（如果选择了多项式内核）\n",
    "- gamma ：γ 参数\n",
    "- C：C参数"
   ]
  },
  {
   "cell_type": "code",
   "execution_count": 7,
   "metadata": {},
   "outputs": [
    {
     "data": {
      "text/plain": [
       "SVC(C=1.0, cache_size=200, class_weight=None, coef0=0.0,\n",
       "  decision_function_shape='ovr', degree=3, gamma='auto', kernel='rbf',\n",
       "  max_iter=-1, probability=False, random_state=None, shrinking=True,\n",
       "  tol=0.001, verbose=False)"
      ]
     },
     "execution_count": 7,
     "metadata": {},
     "output_type": "execute_result"
    }
   ],
   "source": [
    "from sklearn.svm import SVC\n",
    "\n",
    "classifier = SVC()\n",
    "classifier.fit(X, y)"
   ]
  },
  {
   "cell_type": "markdown",
   "metadata": {},
   "source": [
    "  "
   ]
  },
  {
   "cell_type": "code",
   "execution_count": 64,
   "metadata": {},
   "outputs": [],
   "source": [
    "'''\n",
    "在测试集上进行数据拟合\n",
    "'''\n",
    "classifier.fit(X_train, y_train)\n",
    "\n",
    "'''\n",
    "预测\n",
    "'''\n",
    "y_pred = classifier.predict(X_test)"
   ]
  },
  {
   "cell_type": "code",
   "execution_count": 66,
   "metadata": {},
   "outputs": [
    {
     "data": {
      "image/png": "[encoded data removed]",
      "text/plain": [
       "<Figure size 432x288 with 1 Axes>"
      ]
     },
     "metadata": {
      "needs_background": "light"
     },
     "output_type": "display_data"
    }
   ],
   "source": [
    "import math\n",
    "import matplotlib.pyplot as plt\n",
    "%matplotlib inline\n",
    "\n",
    "'''\n",
    "绘制训练集和测试集的结果\n",
    "'''\n",
    "plt.scatter(X_train[np.argwhere(y_train==0).flatten(),0], X_train[np.argwhere(y_train==0).flatten(),1], \n",
    "            s = 60, color = 'blue', edgecolor = 'k', marker = \"o\")\n",
    "plt.scatter(X_train[np.argwhere(y_train==1).flatten(),0], X_train[np.argwhere(y_train==1).flatten(),1], \n",
    "            s = 60, color = 'red', edgecolor = 'k', marker = \"o\")\n",
    "\n",
    "plt.scatter(X_test[np.argwhere(y_test==0).flatten(),0], X_test[np.argwhere(y_test==0).flatten(),1], \n",
    "            s = 60, color = 'blue', edgecolor = 'k', marker=\"x\")\n",
    "plt.scatter(X_test[np.argwhere(y_test==1).flatten(),0], X_test[np.argwhere(y_test==1).flatten(),1], \n",
    "            s= 60, color = 'red', edgecolor = 'k', marker=\"x\")\n",
    "\n",
    "x_min = math.floor(min(X.min(), X_test.min()))\n",
    "x_max = math.ceil(max(X.max(), X_test.max()))\n",
    "y_min = math.floor(min(y.min(), y_test.min()))\n",
    "y_max = math.ceil(max(y.max(), y_test.max()))\n",
    "plt.xlim(x_min, x_max)\n",
    "plt.ylim(y_min, y_max)\n",
    "plt.grid(False)\n",
    "plt.tick_params(\n",
    "        axis='x',\n",
    "        which='both',\n",
    "        bottom=True,\n",
    "        top=False)\n",
    "plt.show()"
   ]
  },
  {
   "cell_type": "markdown",
   "metadata": {},
   "source": [
    "评估指标**准确率**计算"
   ]
  },
  {
   "cell_type": "code",
   "execution_count": 12,
   "metadata": {},
   "outputs": [
    {
     "data": {
      "text/plain": [
       "0.9166666666666666"
      ]
     },
     "execution_count": 12,
     "metadata": {},
     "output_type": "execute_result"
    }
   ],
   "source": [
    "from sklearn.metrics import accuracy_score\n",
    "\n",
    "acc = accuracy_score(y_test, y_pred)"
   ]
  },
  {
   "cell_type": "code",
   "execution_count": 33,
   "metadata": {},
   "outputs": [
    {
     "data": {
      "text/plain": [
       "(100, 3)"
      ]
     },
     "execution_count": 33,
     "metadata": {},
     "output_type": "execute_result"
    }
   ],
   "source": [
    "data.shape"
   ]
  },
  {
   "cell_type": "markdown",
   "metadata": {},
   "source": [
    "### 模型选择\n",
    "\n",
    "#### 学习曲线"
   ]
  },
  {
   "cell_type": "code",
   "execution_count": 39,
   "metadata": {},
   "outputs": [],
   "source": [
    "import pandas as  pd\n",
    "import numpy as np\n",
    "from sklearn.model_selection import train_test_split\n",
    "\n",
    "data = pd.read_csv('data/classifier_3.csv')\n",
    "X = np.array(data[['x1', 'x2']])\n",
    "y = np.array(data['y'])"
   ]
  },
  {
   "cell_type": "code",
   "execution_count": 34,
   "metadata": {},
   "outputs": [
    {
     "data": {
      "image/png": "[encoded data removed]",
      "text/plain": [
       "<Figure size 1080x360 with 1 Axes>"
      ]
     },
     "metadata": {
      "needs_background": "light"
     },
     "output_type": "display_data"
    }
   ],
   "source": [
    "import math\n",
    "import matplotlib.pyplot as plt\n",
    "%matplotlib inline\n",
    "\n",
    "'''\n",
    "绘制数据的分布\n",
    "'''\n",
    "plt.figure(figsize=(15, 5))\n",
    "plt.scatter(X[np.argwhere(y==0).flatten(),0], X[np.argwhere(y==0).flatten(),1], \n",
    "            s = 50, color = 'blue', edgecolor = 'k', marker = \"o\")\n",
    "plt.scatter(X[np.argwhere(y==1).flatten(),0], X[np.argwhere(y==1).flatten(),1], \n",
    "            s = 50, color = 'red', edgecolor = 'k', marker = \"o\")\n",
    "\n",
    "x_min = math.floor(X.min()) - 0.5\n",
    "x_max = math.ceil(X.max()) + 0.5\n",
    "y_min = math.floor(y.min()) - 1.5\n",
    "y_max = math.ceil(y.max()) + 1.0\n",
    "plt.xlim(x_min, x_max)\n",
    "plt.ylim(y_min, y_max)\n",
    "plt.grid(True)\n",
    "plt.tick_params(axis='x', which='both', bottom=True, top=False)\n",
    "plt.show()"
   ]
  },
  {
   "cell_type": "code",
   "execution_count": null,
   "metadata": {},
   "outputs": [],
   "source": [
    "# 固定随机数种子\n",
    "np.random.seed(42)\n",
    "'''\n",
    "测试集和训练集划分\n",
    "'''\n",
    "X_train, X_test, y_train, y_test = train_test_split(X,  y,  test_size = 0.2,  random_state=42)"
   ]
  },
  {
   "cell_type": "code",
   "execution_count": 35,
   "metadata": {},
   "outputs": [
    {
     "data": {
      "image/png": "[encoded data removed]",
      "text/plain": [
       "<Figure size 1080x1080 with 3 Axes>"
      ]
     },
     "metadata": {
      "needs_background": "light"
     },
     "output_type": "display_data"
    }
   ],
   "source": [
    "from sklearn.linear_model import LogisticRegression\n",
    "from sklearn.ensemble import GradientBoostingClassifier\n",
    "from sklearn.svm import SVC\n",
    "from sklearn.model_selection import learning_curve\n",
    "\n",
    "'''\n",
    "在绘制学习曲线前，将数据随机化?\n",
    "'''\n",
    "def randomize(X, Y):\n",
    "    permutation = np.random.permutation(Y.shape[0])\n",
    "    X2 = X[permutation,:]\n",
    "    Y2 = Y[permutation]\n",
    "    return X2, Y2\n",
    "\n",
    "def draw_learning_curves(X, y, estimator, num_training):\n",
    "    train_sizes, train_scores, test_scores = learning_curve(\n",
    "        estimator, X, y, cv=None, n_jobs=1, train_sizes=np.linspace(.1, 1.0, num_training))\n",
    "\n",
    "    train_scores_mean = np.mean(train_scores, axis=1)\n",
    "    train_scores_std = np.std(train_scores, axis=1)\n",
    "    test_scores_mean = np.mean(test_scores, axis=1)\n",
    "    test_scores_std = np.std(test_scores, axis=1)\n",
    "\n",
    "    plt.plot(train_scores_mean, 'o-', color=\"g\", label=\"Training score\")\n",
    "    plt.plot(test_scores_mean, 'o-', color=\"y\", label=\"Cross-validation score\")\n",
    "    plt.grid()\n",
    "    plt.xlabel(\"Training examples\")\n",
    "    plt.ylabel(\"Score\")\n",
    "    plt.legend(loc=\"best\")\n",
    "\n",
    "X2, y2 = randomize(X_train, y_train)\n",
    "plt.figure(figsize=(15, 15))\n",
    "plt.subplot(311)\n",
    "\n",
    "# 定义逻辑回归模型并绘制学习曲线\n",
    "LogClassififer = LogisticRegression()\n",
    "draw_learning_curves(X2, y2, LogClassififer, 10)\n",
    "plt.title(\"Logistic Classififer Learning Curves\")\n",
    "\n",
    "plt.subplot(312)\n",
    "#定义决策树模型并绘制学习曲线\n",
    "DTClassififer = GradientBoostingClassifier()\n",
    "draw_learning_curves(X2, y2, DTClassififer, 10)\n",
    "plt.title(\"Decision Tree Learning Curves\")\n",
    "    \n",
    "plt.subplot(313)\n",
    "# 定义支持向量机并绘制学习曲线\n",
    "SVCClassififer = SVC(kernel='rbf', gamma=1000)\n",
    "draw_learning_curves(X2, y2, SVCClassififer, 10)\n",
    "plt.title(\"Suport Vector Tree Learning Curves\")\n",
    "plt.show()"
   ]
  },
  {
   "cell_type": "markdown",
   "metadata": {},
   "source": [
    "根据上述学习曲线的绘图结果我们可以得出：\n",
    "- 逻辑回归模型的训练集和验证集的测试得分都很低，根据学习曲线认为该模型欠拟合\n",
    "- 决策树模型在训练集和验证机上得分都不错，根据学习曲线认为该模型拟合效果不错\n",
    "- 支持向量机在训练集上得分很高，在验证集上得分很低，根据学习曲线认为该模型过拟合\n",
    "\n",
    "由此得出：**逻辑回归模型欠拟合, 决策树模型效果不错，支持向量机欠拟合。**\n",
    "\n",
    "\n",
    "接下来，在实际的模型中检测结果是否时这样，绘制每个模型的界限曲线。"
   ]
  },
  {
   "cell_type": "markdown",
   "metadata": {},
   "source": [
    "### 模型选择\n",
    "\n",
    "#### K折交叉验证\n",
    "将数据集拆分为K个子集，每次将其中一个子集用作测试集，将剩下的K-1个集合组合起来构成训练集，接着计算所有的K次测试的平均误差，这样可以帮助防止过拟合"
   ]
  },
  {
   "cell_type": "markdown",
   "metadata": {},
   "source": [
    "#### 网格搜索\n",
    "- 1.首先，定义一些参数来执行网格搜索，不同的算法模型调整的参数会不同：\n",
    "    - 逻辑回归可选的参数有：\n",
    "    - 决策树模型可选参数有：\n",
    "        - max_depth\n",
    "        - min_samples_leaf\n",
    "        - min_samples_split。\n",
    "    - 支持向量机的可选参数有：\n",
    "        - kernel : ['poly', 'rbf'],\n",
    "        - C:建议选择指数增长的值，如[0.1, 1, 10, 100]\n",
    "- 2.使用选择评估测量参数如f1_score，为模型制作记分器。\n",
    "\n",
    "- 3.使用参数和记分器，在分类器上执行网格搜索。\n",
    "\n",
    "- 4.将数据拟合到新的分类器中。\n",
    "\n",
    "- 5.绘制模型并找到评估指标。\n",
    "\n",
    "- 6.如果模型不太好，请尝试更改参数的范围并再次拟合。"
   ]
  },
  {
   "cell_type": "code",
   "execution_count": 44,
   "metadata": {},
   "outputs": [],
   "source": [
    "def plot_model(X, y, clf):\n",
    "    plt.figure(figsize=(15, 5))\n",
    "    plt.scatter(X[np.argwhere(y==0).flatten(),0],X[np.argwhere(y==0).flatten(),1],s = 50, color = 'blue', edgecolor = 'k')\n",
    "    plt.scatter(X[np.argwhere(y==1).flatten(),0],X[np.argwhere(y==1).flatten(),1],s = 50, color = 'red', edgecolor = 'k')\n",
    "\n",
    "    x_min = math.floor(X.min())\n",
    "    x_max = math.ceil(X.max())\n",
    "    y_min = math.floor(y.min()) - 1.5\n",
    "    y_max = math.ceil(y.max()) + 1.0\n",
    "    plt.xlim(x_min, x_max)\n",
    "    plt.ylim(y_min, y_max)\n",
    "    plt.grid(False)\n",
    "    plt.tick_params(axis='x', which='both', bottom=False, top=False)\n",
    "\n",
    "    r = np.linspace(-2.1,2.1,300)\n",
    "    s,t = np.meshgrid(r,r)\n",
    "    s = np.reshape(s,(np.size(s),1))\n",
    "    t = np.reshape(t,(np.size(t),1))\n",
    "    h = np.concatenate((s,t),1)\n",
    "\n",
    "    z = clf.predict(h)\n",
    "\n",
    "    s = s.reshape((np.size(r),np.size(r)))\n",
    "    t = t.reshape((np.size(r),np.size(r)))\n",
    "    z = z.reshape((np.size(r),np.size(r)))\n",
    "\n",
    "    plt.contourf(s,t,z,colors = ['blue','red'],alpha = 0.2,levels = range(-1,2))\n",
    "    if len(np.unique(z)) > 1:\n",
    "        plt.contour(s,t,z,colors = 'k', linewidths = 2)\n",
    "    plt.show()"
   ]
  },
  {
   "cell_type": "code",
   "execution_count": 45,
   "metadata": {},
   "outputs": [
    {
     "name": "stdout",
     "output_type": "stream",
     "text": [
      "The training F1 Score is 0.8148148148148148\n",
      "The testing F1 Score is 0.8\n"
     ]
    },
    {
     "data": {
      "image/png": "[encoded data removed]",
      "text/plain": [
       "<Figure size 1080x360 with 1 Axes>"
      ]
     },
     "metadata": {
      "needs_background": "light"
     },
     "output_type": "display_data"
    },
    {
     "data": {
      "text/plain": [
       "DecisionTreeClassifier(class_weight=None, criterion='gini', max_depth=4,\n",
       "            max_features=None, max_leaf_nodes=None,\n",
       "            min_impurity_decrease=0.0, min_impurity_split=None,\n",
       "            min_samples_leaf=2, min_samples_split=2,\n",
       "            min_weight_fraction_leaf=0.0, presort=False, random_state=42,\n",
       "            splitter='best')"
      ]
     },
     "execution_count": 45,
     "metadata": {},
     "output_type": "execute_result"
    }
   ],
   "source": [
    "from sklearn.tree import DecisionTreeClassifier\n",
    "from sklearn.metrics import make_scorer\n",
    "from sklearn.model_selection import GridSearchCV\n",
    "from sklearn.metrics import f1_score\n",
    "\n",
    "DTClassifier = DecisionTreeClassifier(random_state=42)\n",
    "\n",
    "'''\n",
    "定义参数来进行网格搜索，将选择的参数形成一个字典，其中键是参数名称，value是参数的可能取值的列表\n",
    "'''\n",
    "parameters = {\n",
    "    \"max_depth\"           :  [1, 2, 4, 6, 8, 10],\n",
    "    \"min_samples_leaf\"    :  [2, 4, 6, 8, 10],\n",
    "    \"min_samples_split\"   :  [2, 4, 6, 8, 10]\n",
    "}\n",
    "\n",
    "'''\n",
    "定义评估指标为模型制作计分器，即选择一个指标来为每个参数模型评分\n",
    "'''\n",
    "scorer = make_scorer(f1_score)\n",
    "\n",
    "'''\n",
    "使用参数和记分器创建GridSearchCV对象，并在分类器上执行网格搜索寻找最优参数。\n",
    "'''\n",
    "grid_obj = GridSearchCV(DTClassifier, parameters, scoring=scorer)\n",
    "grid_fit = grid_obj.fit(X_train, y_train)\n",
    "\n",
    "'''\n",
    "获得最佳估算器 (estimator)\n",
    "'''\n",
    "best_clf = grid_fit.best_estimator_\n",
    "\n",
    "'''\n",
    "将数据拟合到新的分类器\n",
    "'''\n",
    "best_clf.fit(X_train, y_train)\n",
    "\n",
    "'''\n",
    "使用新的模型进行数据预测\n",
    "'''\n",
    "best_train_predictions = best_clf.predict(X_train)\n",
    "best_test_predictions = best_clf.predict(X_test)\n",
    "\n",
    "'''\n",
    "计算新模型的F1 Score\n",
    "'''\n",
    "print('The training F1 Score is', f1_score(best_train_predictions, y_train))\n",
    "print('The testing F1 Score is', f1_score(best_test_predictions, y_test))\n",
    "\n",
    "'''\n",
    "绘制新的模型图, 如果模型不太好，请尝试更改参数的范围并再次拟合。\n",
    "'''\n",
    "plot_model(X, y, best_clf)\n",
    "\n",
    "'''\n",
    "预览新模型最终采用的参数\n",
    "'''\n",
    "best_clf"
   ]
  },
  {
   "cell_type": "code",
   "execution_count": null,
   "metadata": {},
   "outputs": [],
   "source": []
  },
  {
   "cell_type": "code",
   "execution_count": null,
   "metadata": {},
   "outputs": [],
   "source": []
  },
  {
   "cell_type": "code",
   "execution_count": null,
   "metadata": {},
   "outputs": [],
   "source": []
  },
  {
   "cell_type": "code",
   "execution_count": null,
   "metadata": {},
   "outputs": [],
   "source": []
  }
 ],
 "metadata": {
  "kernelspec": {
   "display_name": "Python 3",
   "language": "python",
   "name": "python3"
  },
  "language_info": {
   "codemirror_mode": {
    "name": "ipython",
    "version": 3
   },
   "file_extension": ".py",
   "mimetype": "text/x-python",
   "name": "python",
   "nbconvert_exporter": "python",
   "pygments_lexer": "ipython3",
   "version": "3.6.5"
  }
 },
 "nbformat": 4,
 "nbformat_minor": 2
}
