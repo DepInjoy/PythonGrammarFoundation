{
 "cells": [
  {
   "cell_type": "markdown",
   "metadata": {},
   "source": [
    "## 参数传递和返回"
   ]
  },
  {
   "cell_type": "markdown",
   "metadata": {},
   "source": [
    "### 传递实参方式\n",
    "函数调用时，输入的每一个实参都会被关联到函数定义的一个形参，而想函数传递实参的方式有很多\n",
    "- 位置实参\n",
    "- 关键字实参\n",
    "- 默认值\n",
    "- 等效函数调用\n",
    "\n",
    "#### 位置实参\n",
    "实参输入的位置和形参的顺序相同"
   ]
  },
  {
   "cell_type": "code",
   "execution_count": 5,
   "metadata": {},
   "outputs": [
    {
     "name": "stdout",
     "output_type": "stream",
     "text": [
      "I have a dog with name Jack\n"
     ]
    }
   ],
   "source": [
    "def describe_pet(type, name):\n",
    "    print(\"I have a\", type, \"with name\", name.title())\n",
    "describe_pet(\"dog\", \"jack\")"
   ]
  },
  {
   "cell_type": "markdown",
   "metadata": {},
   "source": [
    "#### 关键字实参\n",
    "在传递参数时，将参数名称和值联系在一起。"
   ]
  },
  {
   "cell_type": "code",
   "execution_count": 6,
   "metadata": {},
   "outputs": [
    {
     "name": "stdout",
     "output_type": "stream",
     "text": [
      "I have a dog with name Jack\n"
     ]
    }
   ],
   "source": [
    "def describe_pet(type, name):\n",
    "    print(\"I have a\", type, \"with name\", name.title())\n",
    "describe_pet(type=\"dog\", name=\"jack\")"
   ]
  },
  {
   "cell_type": "markdown",
   "metadata": {},
   "source": [
    "#### 默认值\n",
    "在编写程序是，允许给函数的每个形参默认值，形参指定默认值之后，在调用时，可以省略相应位置的实参。默认值可以实现可选参数。"
   ]
  },
  {
   "cell_type": "code",
   "execution_count": 16,
   "metadata": {},
   "outputs": [
    {
     "name": "stdout",
     "output_type": "stream",
     "text": [
      "Green Lucy\n",
      "Green Hank Lucy\n"
     ]
    }
   ],
   "source": [
    "def get_formatted_name(first_name, last_name, middle_name = \"\"):\n",
    "    full_name = \"\"\n",
    "    if middle_name:\n",
    "        full_name = first_name + \" \" + middle_name + \" \" + last_name\n",
    "    else:\n",
    "        full_name = first_name + \" \" + last_name\n",
    "    return full_name.title()\n",
    "print(get_formatted_name(\"Green\", \"lucy\"))\n",
    "print(get_formatted_name(\"Green\",\"lucy\", \"hank\"))"
   ]
  },
  {
   "cell_type": "markdown",
   "metadata": {},
   "source": [
    "#### 等效函数调用\n",
    "混合使用位置实参、关键字实参、默认值实现多种等效的函数调用。"
   ]
  },
  {
   "cell_type": "code",
   "execution_count": 11,
   "metadata": {},
   "outputs": [
    {
     "name": "stdout",
     "output_type": "stream",
     "text": [
      "I have a cat with name Jack\n",
      "I have a cat with name Lucy\n",
      "I have a dog with name Blinblin\n",
      "I have a fish with name Lily\n"
     ]
    }
   ],
   "source": [
    "def describe_pet(name, type=\"cat\"):\n",
    "    print(\"I have a\", type, \"with name\", name.title())\n",
    "describe_pet(\"jack\")\n",
    "describe_pet(name=\"lucy\")\n",
    "describe_pet(\"blinblin\", \"dog\")\n",
    "describe_pet(name = \"lily\", type = \"fish\")"
   ]
  },
  {
   "cell_type": "markdown",
   "metadata": {},
   "source": [
    "### 传递实参类型\n",
    "    函数接收的形参存在可修改和不可修改两种，对于可修改对象需要注意可变迭代器对象修改引发的问题，相关示例请参考下面的相关实现示例。\n",
    "    \n",
    "- 可修改对象\n",
    "    - list\n",
    "- 不可修改对象\n",
    "    - str\n",
    "\n",
    "**参数传递的相关规则:**\n",
    "\n",
    "- **标准规定，同一语句块中，相同的不可变对象不另外分配空间**"
   ]
  },
  {
   "cell_type": "code",
   "execution_count": 1,
   "metadata": {},
   "outputs": [
    {
     "name": "stdout",
     "output_type": "stream",
     "text": [
      "True\n"
     ]
    }
   ],
   "source": [
    "# 同一语句块中，相同的不可变对象不另外分配空间\n",
    "def foo():\n",
    "    x = 100\n",
    "    y = 100\n",
    "    print(x is y)\n",
    "foo()"
   ]
  },
  {
   "cell_type": "markdown",
   "metadata": {},
   "source": [
    "#### 传递列表\n",
    "    \n",
    "    列表传递作为实参，支持对其进行修改。"
   ]
  },
  {
   "cell_type": "code",
   "execution_count": 5,
   "metadata": {},
   "outputs": [
    {
     "name": "stdout",
     "output_type": "stream",
     "text": [
      "Printing  Rabbit\n",
      "Printing  Dog\n",
      "Printing  Cat\n",
      "Printing  Fish\n",
      "Printing  Monckey\n",
      "[]\n"
     ]
    }
   ],
   "source": [
    "def handle_print_mission(unprint):\n",
    "    '''\n",
    "    unprint是可修改的，直接对unprint进行for循环遍历并和删除会出错\n",
    "    由于迭代器进行循环遍历时，会一次性生成，导致直接删除出错\n",
    "    而unprint[:]进行copy，之后来避免上面的问题。\n",
    "    '''\n",
    "    for item in unprint[:]:\n",
    "        print(\"Printing \", item)\n",
    "        unprint.remove(item)\n",
    "messages = [\"Rabbit\", \"Dog\", \"Cat\", \"Fish\", \"Monckey\"]\n",
    "handle_print_mission(messages)\n",
    "print(messages)"
   ]
  },
  {
   "cell_type": "code",
   "execution_count": 41,
   "metadata": {},
   "outputs": [
    {
     "name": "stdout",
     "output_type": "stream",
     "text": [
      "Printing  Monckey\n",
      "Printing  Fish\n",
      "Printing  Cat\n",
      "Printing  Dog\n",
      "Printing  Rabbit\n",
      "['Rabbit', 'Dog', 'Cat', 'Fish', 'Monckey']\n"
     ]
    }
   ],
   "source": [
    "messages = [\"Rabbit\", \"Dog\", \"Cat\", \"Fish\", \"Monckey\"]\n",
    "\"\"\"\n",
    "messages[:]进行messages的copy，以达到修改的是附件，而原件不受到影响\n",
    "进而实现messages不被修改。\n",
    "\"\"\"\n",
    "handle_print_mission(messages[:])\n",
    "print(messages)"
   ]
  },
  {
   "cell_type": "code",
   "execution_count": 8,
   "metadata": {},
   "outputs": [
    {
     "name": "stdout",
     "output_type": "stream",
     "text": [
      "Hell, nice to meet you!\n"
     ]
    }
   ],
   "source": [
    "message = \"Hell, nice to meet you!\"\n",
    "def handleWord(msg):\n",
    "    '''\n",
    "    str是不可修改对象，因此可以直接进行修改，不用担心引发的问题。\n",
    "    '''\n",
    "    invalidChar = [\"c\", \"d\", \"e\"]\n",
    "    for ch in msg:\n",
    "        if ch in invalidChar:\n",
    "            msg.replace(ch, \"\")\n",
    "    print(msg)\n",
    "handleWord(message)"
   ]
  },
  {
   "cell_type": "markdown",
   "metadata": {},
   "source": [
    "#### 传递任意数量的形参\n",
    "    Python将创建一个空元组的形参，将接收到的所有的所有值都封装在这个元组中。"
   ]
  },
  {
   "cell_type": "code",
   "execution_count": 44,
   "metadata": {},
   "outputs": [
    {
     "name": "stdout",
     "output_type": "stream",
     "text": [
      "('a', 'b', 'c')\n",
      "('e', 'f')\n"
     ]
    }
   ],
   "source": [
    "def make_pizza(*materials):\n",
    "    print(materials)\n",
    "make_pizza(\"a\", \"b\", \"c\")\n",
    "make_pizza(\"e\", \"f\")"
   ]
  },
  {
   "cell_type": "markdown",
   "metadata": {},
   "source": [
    "#### 混合使用位置实参和任意数量形参\n",
    "    任意数量的形参必须放在后面，函数首先匹配位置形参，随后所有的匹配为最后一个形参。"
   ]
  },
  {
   "cell_type": "code",
   "execution_count": 48,
   "metadata": {},
   "outputs": [
    {
     "name": "stdout",
     "output_type": "stream",
     "text": [
      "Make a pizza with  21 and meterials ('a', 'b', 'c')\n",
      "Make a pizza with  16 and meterials ('6', '8')\n"
     ]
    }
   ],
   "source": [
    "def make_pizza(size, *materials):\n",
    "    print(\"Make a pizza with \", size, \"and meterials\", materials)\n",
    "make_pizza(21, first = \"a\", \"b\", \"c\")\n",
    "make_pizza(16, \"6\", \"8\")"
   ]
  },
  {
   "cell_type": "markdown",
   "metadata": {},
   "source": [
    "#### 混合使用关键字形参和任意数量形参\n",
    "    此时函数接受任意数量的键值对形参，形参`**materials`将创建一个空字典来接受实参。"
   ]
  },
  {
   "cell_type": "code",
   "execution_count": 56,
   "metadata": {},
   "outputs": [
    {
     "name": "stdout",
     "output_type": "stream",
     "text": [
      "Make a pizza with  21 and meterials: {'fst': 'a', 'sec': 'b', 'thd': 'c'}\n",
      "fst a\n",
      "sec b\n",
      "thd c\n"
     ]
    }
   ],
   "source": [
    "def make_pizza(size, **materials):\n",
    "    print(\"Make a pizza with \", size, \"and meterials:\")\n",
    "    for key, value in materials.items():\n",
    "        print(key, value)\n",
    "make_pizza(size=21,fst=\"a\", sec=\"b\", thd=\"c\")"
   ]
  },
  {
   "cell_type": "markdown",
   "metadata": {},
   "source": [
    "### 函数返回值\n",
    "\n",
    "#### 返回元组"
   ]
  },
  {
   "cell_type": "code",
   "execution_count": null,
   "metadata": {
    "collapsed": true
   },
   "outputs": [],
   "source": [
    "def materials():\n",
    "    return \"Tomato\", \"Potato\"\n",
    "ma"
   ]
  },
  {
   "cell_type": "code",
   "execution_count": null,
   "metadata": {
    "collapsed": true
   },
   "outputs": [],
   "source": []
  },
  {
   "cell_type": "code",
   "execution_count": null,
   "metadata": {
    "collapsed": true
   },
   "outputs": [],
   "source": []
  },
  {
   "cell_type": "code",
   "execution_count": null,
   "metadata": {
    "collapsed": true
   },
   "outputs": [],
   "source": []
  },
  {
   "cell_type": "code",
   "execution_count": null,
   "metadata": {
    "collapsed": true
   },
   "outputs": [],
   "source": []
  },
  {
   "cell_type": "code",
   "execution_count": null,
   "metadata": {
    "collapsed": true
   },
   "outputs": [],
   "source": []
  },
  {
   "cell_type": "code",
   "execution_count": null,
   "metadata": {
    "collapsed": true
   },
   "outputs": [],
   "source": []
  },
  {
   "cell_type": "code",
   "execution_count": null,
   "metadata": {
    "collapsed": true
   },
   "outputs": [],
   "source": []
  },
  {
   "cell_type": "code",
   "execution_count": null,
   "metadata": {
    "collapsed": true
   },
   "outputs": [],
   "source": []
  },
  {
   "cell_type": "markdown",
   "metadata": {},
   "source": [
    "## 函数式编程\n",
    "函数式编程主要有map()，filter(), reduce()三个基本函数和一个算子lambda构成。\n",
    "\n",
    "### Lambda算子"
   ]
  },
  {
   "cell_type": "markdown",
   "metadata": {},
   "source": [
    "- Lambda函数一行表示多个if判断\n",
    "    - `lambda x: 语句1 if 条件1 else 语句2 if 条件2 else 语句3` 等价于 `lambda x: 语句1 if 条件1 else (语句2 if 条件2 else 语句3)`"
   ]
  },
  {
   "cell_type": "code",
   "execution_count": 7,
   "metadata": {},
   "outputs": [
    {
     "name": "stdout",
     "output_type": "stream",
     "text": [
      "1 : First\n",
      "2 : Second\n",
      "3 : Others\n"
     ]
    }
   ],
   "source": [
    "f = lambda x : \"First\" if x == 1 else \"Second\" if x == 2 else \"Others\"\n",
    "for i in [1,2,3]:\n",
    "    print(i, \":\", f(i))"
   ]
  },
  {
   "cell_type": "code",
   "execution_count": 8,
   "metadata": {},
   "outputs": [
    {
     "name": "stdout",
     "output_type": "stream",
     "text": [
      "1 : First\n",
      "2 : Second\n",
      "3 : Others\n"
     ]
    }
   ],
   "source": [
    "f = lambda x : \"First\" if x == 1 else (\"Second\" if x == 2 else \"Others\")\n",
    "for i in [1,2,3]:\n",
    "    print(i, \":\", f(i))"
   ]
  },
  {
   "cell_type": "markdown",
   "metadata": {
    "collapsed": true
   },
   "source": [
    "### map函数"
   ]
  },
  {
   "cell_type": "code",
   "execution_count": 2,
   "metadata": {},
   "outputs": [
    {
     "data": {
      "text/plain": [
       "[9, 4, 25, 64, 1]"
      ]
     },
     "execution_count": 2,
     "metadata": {},
     "output_type": "execute_result"
    }
   ],
   "source": [
    "lst = [3, 2, 5, 8, 1]\n",
    "list(map(lambda x: x**2, lst))"
   ]
  },
  {
   "cell_type": "markdown",
   "metadata": {
    "collapsed": true
   },
   "source": [
    "### filter函数"
   ]
  },
  {
   "cell_type": "code",
   "execution_count": 3,
   "metadata": {},
   "outputs": [
    {
     "data": {
      "text/plain": [
       "[2, 8]"
      ]
     },
     "execution_count": 3,
     "metadata": {},
     "output_type": "execute_result"
    }
   ],
   "source": [
    "lst = [3, 2, 5, 8, 1]\n",
    "list(filter(lambda x : x % 2 == 0, lst))"
   ]
  },
  {
   "cell_type": "markdown",
   "metadata": {
    "collapsed": true
   },
   "source": [
    "### reduce函数"
   ]
  },
  {
   "cell_type": "code",
   "execution_count": 4,
   "metadata": {},
   "outputs": [
    {
     "data": {
      "text/plain": [
       "19"
      ]
     },
     "execution_count": 4,
     "metadata": {},
     "output_type": "execute_result"
    }
   ],
   "source": [
    "from functools import reduce\n",
    "lst = [3, 2, 5, 8, 1]\n",
    "reduce(lambda x, y: x + y, lst)"
   ]
  },
  {
   "cell_type": "code",
   "execution_count": 13,
   "metadata": {},
   "outputs": [
    {
     "name": "stdout",
     "output_type": "stream",
     "text": [
      "{'not': 2, 'clumsy': 1, 'person': 1, 'in': 1, 'this': 1, 'world,': 1, 'only': 2, 'lazy': 1, 'people,': 1, 'people': 1, 'can': 1, 'hold': 1, 'out': 1, 'until': 1, 'the': 1, 'last.': 1}\n",
      "not\n",
      "2\n"
     ]
    }
   ],
   "source": [
    "import collections\n",
    "def countfeq(s):\n",
    "    s_list = s.split(\" \")\n",
    "    [s_list.remove(item) for item in s_list[:] if item in ', .']\n",
    "    dict={}\n",
    "    for i in s_list:\n",
    "        if i in dict:\n",
    "             dict[i]+=1\n",
    "        else:\n",
    "            dict[i]=1\n",
    "    return dict\n",
    "    \n",
    "if __name__ == \"__main__\":\n",
    "    s = \"Not clumsy person in this world, only lazy people, only people can not hold out until the last.\"\n",
    "    s_dict = countfeq(s.lower())\n",
    "    print(s_dict)\n",
    "    word = input()\n",
    "    print(s_dict[word.lower()])"
   ]
  },
  {
   "cell_type": "code",
   "execution_count": 17,
   "metadata": {},
   "outputs": [
    {
     "name": "stdout",
     "output_type": "stream",
     "text": [
      "Not clumsy person in this world, only lazy people, only people can not hold out until the last.\n",
      "1\n"
     ]
    }
   ],
   "source": [
    "import collections #导入库\n",
    "def countfeq(s): #词频统计函数\n",
    "    s_list = s.split('/')  #以\"/\"为分界将字符串变成列表\n",
    "    [s_list.remove(item) for item in s_list if item in ',.'] #将',.'去除\n",
    "    dic = collections.Counter(s_list) #利用Counter函数统计个数\n",
    "    return dic #返回字典\n",
    "if __name__ == \"__main__\":\n",
    "    s = input() #输入字符串\n",
    "    s_dict = countfeq(s) #执行函数\n",
    "    print(len(s_dict.keys())) #打印字典key的长度（个数），即为不同单词的个数"
   ]
  },
  {
   "cell_type": "code",
   "execution_count": 33,
   "metadata": {},
   "outputs": [
    {
     "name": "stdout",
     "output_type": "stream",
     "text": [
      "Counter({'': 3, 'not': 2, 'only': 2, 'people': 2, 'clumsy': 1, 'person': 1, 'in': 1, 'this': 1, 'world': 1, 'lazy': 1, 'can': 1, 'hold': 1, 'out': 1, 'until': 1, 'the': 1, 'last': 1})\n",
      "not\n",
      "2\n"
     ]
    }
   ],
   "source": [
    "import collections\n",
    "import string\n",
    "def countfeq(s):\n",
    "    s_list = s.split(\" \")        \n",
    "    return collections.Counter(s_list)\n",
    "    \n",
    "if __name__ == \"__main__\":\n",
    "    s = \"Not clumsy person in this world, only lazy people, only people can not hold out until the last.\"\n",
    "    table=s.maketrans(string.punctuation,' '*len(string.punctuation))\n",
    "    s=s.translate(table)\n",
    "    s_dict = countfeq(s.lower())\n",
    "    print(s_dict)\n",
    "    word = input()\n",
    "    if word in s_dict:\n",
    "        print(s_dict[word])\n",
    "    else:\n",
    "        print(0)"
   ]
  },
  {
   "cell_type": "markdown",
   "metadata": {},
   "source": [
    "## 常用的函数形式\n",
    "\n",
    "### 一些数学处理函数\n",
    "- round:4舍6入5看齐，奇进偶不进\n",
    "- floor:向下取整\n",
    "- ceil:向上取整\n",
    "- pow:幂运算\n",
    "- sqrt:开放运算\n",
    "- degrees:弧度转角度\n",
    "- radians:角度转弧度"
   ]
  },
  {
   "cell_type": "code",
   "execution_count": 13,
   "metadata": {},
   "outputs": [
    {
     "name": "stdout",
     "output_type": "stream",
     "text": [
      "******************** round:4舍6入5看齐，奇进偶不进 ********************\n",
      "2  4  4  6\n",
      "******************** floor:向下取整 ********************\n",
      "3\n",
      "******************** ceil:向上取整 ********************\n",
      "3\n",
      "******************** 幂和开方运算 ********************\n",
      "8.0   2.0\n",
      "******************** 角度和弧度相互转化 ********************\n",
      "180.0   3.141592653589793\n"
     ]
    }
   ],
   "source": [
    "import math\n",
    "print(\"*\"*20, \"round:4舍6入5看齐，奇进偶不进\", \"*\"*20)\n",
    "print(round(2.5), round(3.5), round(4.5), round(5.5), sep= \"  \")\n",
    "\n",
    "print(\"*\"*20, \"floor:向下取整\", \"*\"*20)\n",
    "print(math.floor(3.8))\n",
    "\n",
    "print(\"*\"*20, \"ceil:向上取整\", \"*\"*20)\n",
    "print(math.ceil(2.3))\n",
    "\n",
    "print(\"*\"*20, \"幂和开方运算\", \"*\"*20)\n",
    "print(math.pow(2,3), \" \", math.sqrt(4))\n",
    "\n",
    "print(\"*\"*20, \"角度和弧度相互转化\", \"*\"*20)\n",
    "print(math.degrees(math.pi), \" \",math.radians(180))"
   ]
  },
  {
   "cell_type": "markdown",
   "metadata": {},
   "source": [
    "### 时间处理函数\n",
    "- 获取当前的时间\n",
    "- 设定特定的时间\n",
    "- 按照某种格式打印时间\n",
    "- "
   ]
  },
  {
   "cell_type": "code",
   "execution_count": 14,
   "metadata": {},
   "outputs": [
    {
     "name": "stdout",
     "output_type": "stream",
     "text": [
      "2019-11-25\n",
      "12:30:00\n",
      "2019-11-25 16:29:16.877797\n",
      "Mon Nov 25 2019 16:29:16\n",
      "1569902400.0\n",
      "2019-10-01 12:00:00\n"
     ]
    }
   ],
   "source": [
    "# 获取当前时间，包含年月日\n",
    "from datetime import date\n",
    "print(date.today())\n",
    "\n",
    "# 设定时间\n",
    "from datetime import time\n",
    "print(time(12, 30,0))\n",
    "\n",
    "# 获取当前时间，包含年月日时分秒\n",
    "from datetime import datetime\n",
    "now = datetime.now()\n",
    "print(now)\n",
    "\n",
    "# 按照某种格式输出时间\n",
    "print(now.strftime('%a %b %d %Y %H:%M:%S'))\n",
    "\n",
    "# 时间戳相互转化\n",
    "dt = datetime(2019, 10, 1, 12, 0, 0)\n",
    "ts = dt.timestamp()\n",
    "print(ts)\n",
    "\n",
    "print(datetime.fromtimestamp(ts))"
   ]
  },
  {
   "cell_type": "markdown",
   "metadata": {
    "collapsed": true
   },
   "source": [
    "### 随机数生成"
   ]
  },
  {
   "cell_type": "code",
   "execution_count": 3,
   "metadata": {},
   "outputs": [
    {
     "name": "stdout",
     "output_type": "stream",
     "text": [
      "JavaScript\n",
      "[5, 4, 0, 3, 1, 2]\n"
     ]
    }
   ],
   "source": [
    "import random\n",
    "\n",
    "# 生成一个指定范围[low, high]内的整数\n",
    "item = random.randint(0, 10)\n",
    "\n",
    "# 返回指定步进集合中的一个随机数，步进默认值为1。\n",
    "item = random.randrange(1,10, 2)\n",
    "\n",
    "#生成0到1之间的随机实数\n",
    "item = random.random()\n",
    "\n",
    "# 从一个均匀分布[low,high)中随机采样，包含low，不包含high.\n",
    "item = random.uniform(5,10)\n",
    "\n",
    "# 从list中随机获取N个元素并返回\n",
    "item = random.sample(range(10), 5)\n",
    "\n",
    "# 随机选取一个元素\n",
    "item = random.choice(['C++', \"Java\", \"Python\", \"JavaScript\"])\n",
    "print(item)\n",
    "\n",
    "# 序列的所有元素随机排序\n",
    "l = [0,1,2,3,4,5]\n",
    "random.shuffle(l)\n",
    "print(l)"
   ]
  },
  {
   "cell_type": "markdown",
   "metadata": {
    "collapsed": true
   },
   "source": [
    "### 一些收藏的小功能\n"
   ]
  },
  {
   "cell_type": "markdown",
   "metadata": {},
   "source": [
    "#### 判断输入是不是素数"
   ]
  },
  {
   "cell_type": "code",
   "execution_count": 4,
   "metadata": {},
   "outputs": [
    {
     "name": "stdout",
     "output_type": "stream",
     "text": [
      "True\n",
      "False\n"
     ]
    }
   ],
   "source": [
    "import math\n",
    "def prime(num):\n",
    "    if num == 1:\n",
    "        return False\n",
    "    n = int(math.sqrt(num))\n",
    "    for i in range(2, n + 1):\n",
    "        if num % i == 0:\n",
    "            return False\n",
    "    return True\n",
    "print(prime(31))\n",
    "print(prime(8))"
   ]
  },
  {
   "cell_type": "markdown",
   "metadata": {},
   "source": [
    "#### 求输入整数的逆序数"
   ]
  },
  {
   "cell_type": "code",
   "execution_count": 6,
   "metadata": {},
   "outputs": [
    {
     "name": "stdout",
     "output_type": "stream",
     "text": [
      "Please input a number: -90\n",
      "逆序数是： -9\n"
     ]
    }
   ],
   "source": [
    "n = int(input(\"Please input a number: \"))\n",
    "res = 0\n",
    "if n < 0:\n",
    "    m = -n\n",
    "else:\n",
    "    m = n\n",
    "while m:\n",
    "    res = res * 10 + m % 10\n",
    "    m = m // 10\n",
    "if n < 0:\n",
    "    res *= -1\n",
    "print(\"逆序数是：\", res)"
   ]
  },
  {
   "cell_type": "markdown",
   "metadata": {},
   "source": [
    "#### 深化递归的理解"
   ]
  },
  {
   "cell_type": "code",
   "execution_count": 7,
   "metadata": {},
   "outputs": [
    {
     "name": "stdout",
     "output_type": "stream",
     "text": [
      "-345"
     ]
    }
   ],
   "source": [
    "def proc(n):\n",
    "    if n < 0:\n",
    "        print('-', end = '')\n",
    "        n = -n\n",
    "    if n // 10:\n",
    "        proc(n // 10 )\n",
    "    print(n % 10, end = '')\n",
    "     \n",
    "proc(-345)"
   ]
  },
  {
   "cell_type": "code",
   "execution_count": null,
   "metadata": {
    "collapsed": true
   },
   "outputs": [],
   "source": []
  }
 ],
 "metadata": {
  "kernelspec": {
   "display_name": "Python 3",
   "language": "python",
   "name": "python3"
  },
  "language_info": {
   "codemirror_mode": {
    "name": "ipython",
    "version": 3
   },
   "file_extension": ".py",
   "mimetype": "text/x-python",
   "name": "python",
   "nbconvert_exporter": "python",
   "pygments_lexer": "ipython3",
   "version": "3.7.0"
  }
 },
 "nbformat": 4,
 "nbformat_minor": 2
}
