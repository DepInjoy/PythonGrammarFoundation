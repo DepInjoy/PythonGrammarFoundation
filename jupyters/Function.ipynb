{
 "cells": [
  {
   "cell_type": "markdown",
   "metadata": {},
   "source": [
    "## Lambda函数"
   ]
  },
  {
   "cell_type": "markdown",
   "metadata": {},
   "source": [
    "- Lambda函数一行表示多个if判断\n",
    "    - `lambda x: 语句1 if 条件1 else 语句2 if 条件2 else 语句3` 等价于 `lambda x: 语句1 if 条件1 else (语句2 if 条件2 else 语句3)`"
   ]
  },
  {
   "cell_type": "code",
   "execution_count": 7,
   "metadata": {},
   "outputs": [
    {
     "name": "stdout",
     "output_type": "stream",
     "text": [
      "1 : First\n",
      "2 : Second\n",
      "3 : Others\n"
     ]
    }
   ],
   "source": [
    "f = lambda x : \"First\" if x == 1 else \"Second\" if x == 2 else \"Others\"\n",
    "for i in [1,2,3]:\n",
    "    print(i, \":\", f(i))"
   ]
  },
  {
   "cell_type": "code",
   "execution_count": 8,
   "metadata": {},
   "outputs": [
    {
     "name": "stdout",
     "output_type": "stream",
     "text": [
      "1 : First\n",
      "2 : Second\n",
      "3 : Others\n"
     ]
    }
   ],
   "source": [
    "f = lambda x : \"First\" if x == 1 else (\"Second\" if x == 2 else \"Others\")\n",
    "for i in [1,2,3]:\n",
    "    print(i, \":\", f(i))"
   ]
  },
  {
   "cell_type": "code",
   "execution_count": null,
   "metadata": {},
   "outputs": [],
   "source": []
  },
  {
   "cell_type": "code",
   "execution_count": null,
   "metadata": {},
   "outputs": [],
   "source": []
  },
  {
   "cell_type": "code",
   "execution_count": null,
   "metadata": {},
   "outputs": [],
   "source": []
  },
  {
   "cell_type": "code",
   "execution_count": null,
   "metadata": {},
   "outputs": [],
   "source": []
  },
  {
   "cell_type": "code",
   "execution_count": null,
   "metadata": {},
   "outputs": [],
   "source": []
  },
  {
   "cell_type": "code",
   "execution_count": null,
   "metadata": {},
   "outputs": [],
   "source": []
  }
 ],
 "metadata": {
  "kernelspec": {
   "display_name": "Python 3",
   "language": "python",
   "name": "python3"
  },
  "language_info": {
   "codemirror_mode": {
    "name": "ipython",
    "version": 3
   },
   "file_extension": ".py",
   "mimetype": "text/x-python",
   "name": "python",
   "nbconvert_exporter": "python",
   "pygments_lexer": "ipython3",
   "version": "3.7.0"
  }
 },
 "nbformat": 4,
 "nbformat_minor": 2
}
