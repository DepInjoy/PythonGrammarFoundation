{
 "cells": [
  {
   "cell_type": "markdown",
   "metadata": {},
   "source": [
    "### 传递实参方式\n",
    "函数调用时，输入的每一个实参都会被关联到函数定义的一个形参，而想函数传递实参的方式有很多\n",
    "- 位置实参\n",
    "- 关键字实参\n",
    "- 默认值\n",
    "- 等效函数调用\n",
    "\n",
    "#### 位置实参\n",
    "实参输入的位置和形参的顺序相同"
   ]
  },
  {
   "cell_type": "code",
   "execution_count": 5,
   "metadata": {},
   "outputs": [
    {
     "name": "stdout",
     "output_type": "stream",
     "text": [
      "I have a dog with name Jack\n"
     ]
    }
   ],
   "source": [
    "def describe_pet(type, name):\n",
    "    print(\"I have a\", type, \"with name\", name.title())\n",
    "describe_pet(\"dog\", \"jack\")"
   ]
  },
  {
   "cell_type": "markdown",
   "metadata": {},
   "source": [
    "#### 关键字实参\n",
    "在传递参数时，将参数名称和值联系在一起。"
   ]
  },
  {
   "cell_type": "code",
   "execution_count": 6,
   "metadata": {},
   "outputs": [
    {
     "name": "stdout",
     "output_type": "stream",
     "text": [
      "I have a dog with name Jack\n"
     ]
    }
   ],
   "source": [
    "def describe_pet(type, name):\n",
    "    print(\"I have a\", type, \"with name\", name.title())\n",
    "describe_pet(type=\"dog\", name=\"jack\")"
   ]
  },
  {
   "cell_type": "markdown",
   "metadata": {},
   "source": [
    "#### 默认值\n",
    "在编写程序是，允许给函数的每个形参默认值，形参指定默认值之后，在调用时，可以省略相应位置的实参。默认值可以实现可选参数。"
   ]
  },
  {
   "cell_type": "code",
   "execution_count": 16,
   "metadata": {},
   "outputs": [
    {
     "name": "stdout",
     "output_type": "stream",
     "text": [
      "Green Lucy\n",
      "Green Hank Lucy\n"
     ]
    }
   ],
   "source": [
    "def get_formatted_name(first_name, last_name, middle_name = \"\"):\n",
    "    full_name = \"\"\n",
    "    if middle_name:\n",
    "        full_name = first_name + \" \" + middle_name + \" \" + last_name\n",
    "    else:\n",
    "        full_name = first_name + \" \" + last_name\n",
    "    return full_name.title()\n",
    "print(get_formatted_name(\"Green\", \"lucy\"))\n",
    "print(get_formatted_name(\"Green\",\"lucy\", \"hank\"))"
   ]
  },
  {
   "cell_type": "markdown",
   "metadata": {},
   "source": [
    "#### 等效函数调用\n",
    "混合使用位置实参、关键字实参、默认值实现多种等效的函数调用。"
   ]
  },
  {
   "cell_type": "code",
   "execution_count": 11,
   "metadata": {},
   "outputs": [
    {
     "name": "stdout",
     "output_type": "stream",
     "text": [
      "I have a cat with name Jack\n",
      "I have a cat with name Lucy\n",
      "I have a dog with name Blinblin\n",
      "I have a fish with name Lily\n"
     ]
    }
   ],
   "source": [
    "def describe_pet(name, type=\"cat\"):\n",
    "    print(\"I have a\", type, \"with name\", name.title())\n",
    "describe_pet(\"jack\")\n",
    "describe_pet(name=\"lucy\")\n",
    "describe_pet(\"blinblin\", \"dog\")\n",
    "describe_pet(name = \"lily\", type = \"fish\")"
   ]
  },
  {
   "cell_type": "markdown",
   "metadata": {},
   "source": [
    "### 传递实参类型\n",
    "\n",
    "#### 传递列表\n",
    "    \n",
    "    列表传递作为实参，支持对其进行修改,如果想要禁止函数修改列表参数，可以传递列表的附件如`message[:]`,以达到修改的是附件，而原件不受到影响。"
   ]
  },
  {
   "cell_type": "code",
   "execution_count": 38,
   "metadata": {},
   "outputs": [
    {
     "name": "stdout",
     "output_type": "stream",
     "text": [
      "Printing  Monckey\n",
      "Printing  Fish\n",
      "Printing  Cat\n",
      "Printing  Dog\n",
      "Printing  Rabbit\n",
      "[]\n"
     ]
    }
   ],
   "source": [
    "def handle_print_mission(unprint):\n",
    "    # 倒序遍历，正序删除会出现问题\n",
    "    for item in reversed(unprint):\n",
    "        print(\"Printing \", item)\n",
    "        unprint.remove(item)\n",
    "messages = [\"Rabbit\", \"Dog\", \"Cat\", \"Fish\", \"Monckey\"]\n",
    "handle_print_mission(messages)\n",
    "print(messages)"
   ]
  },
  {
   "cell_type": "code",
   "execution_count": 41,
   "metadata": {},
   "outputs": [
    {
     "name": "stdout",
     "output_type": "stream",
     "text": [
      "Printing  Monckey\n",
      "Printing  Fish\n",
      "Printing  Cat\n",
      "Printing  Dog\n",
      "Printing  Rabbit\n",
      "['Rabbit', 'Dog', 'Cat', 'Fish', 'Monckey']\n"
     ]
    }
   ],
   "source": [
    "messages = [\"Rabbit\", \"Dog\", \"Cat\", \"Fish\", \"Monckey\"]\n",
    "handle_print_mission(messages[:])\n",
    "print(messages)"
   ]
  },
  {
   "cell_type": "markdown",
   "metadata": {},
   "source": [
    "#### 传递任意数量的形参\n",
    "    Python将创建一个空元组的形参，将接收到的所有的所有值都封装在这个元组中。"
   ]
  },
  {
   "cell_type": "code",
   "execution_count": 44,
   "metadata": {},
   "outputs": [
    {
     "name": "stdout",
     "output_type": "stream",
     "text": [
      "('a', 'b', 'c')\n",
      "('e', 'f')\n"
     ]
    }
   ],
   "source": [
    "def make_pizza(*materials):\n",
    "    print(materials)\n",
    "make_pizza(\"a\", \"b\", \"c\")\n",
    "make_pizza(\"e\", \"f\")"
   ]
  },
  {
   "cell_type": "markdown",
   "metadata": {},
   "source": [
    "#### 混合使用位置实参和任意数量形参\n",
    "    任意数量的形参必须放在后面，函数首先匹配位置形参，随后所有的匹配为最后一个形参。"
   ]
  },
  {
   "cell_type": "code",
   "execution_count": 48,
   "metadata": {},
   "outputs": [
    {
     "name": "stdout",
     "output_type": "stream",
     "text": [
      "Make a pizza with  21 and meterials ('a', 'b', 'c')\n",
      "Make a pizza with  16 and meterials ('6', '8')\n"
     ]
    }
   ],
   "source": [
    "def make_pizza(size, *materials):\n",
    "    print(\"Make a pizza with \", size, \"and meterials\", materials)\n",
    "make_pizza(21, first = \"a\", \"b\", \"c\")\n",
    "make_pizza(16, \"6\", \"8\")"
   ]
  },
  {
   "cell_type": "markdown",
   "metadata": {},
   "source": [
    "#### 混合使用关键字形参和任意数量形参\n",
    "    此时函数接受任意数量的键值对形参，形参`**materials`将创建一个空字典来接受实参。"
   ]
  },
  {
   "cell_type": "code",
   "execution_count": 56,
   "metadata": {},
   "outputs": [
    {
     "name": "stdout",
     "output_type": "stream",
     "text": [
      "Make a pizza with  21 and meterials: {'fst': 'a', 'sec': 'b', 'thd': 'c'}\n",
      "fst a\n",
      "sec b\n",
      "thd c\n"
     ]
    }
   ],
   "source": [
    "def make_pizza(size, **materials):\n",
    "    print(\"Make a pizza with \", size, \"and meterials:\")\n",
    "    for key, value in materials.items():\n",
    "        print(key, value)\n",
    "make_pizza(size=21,fst=\"a\", sec=\"b\", thd=\"c\")"
   ]
  },
  {
   "cell_type": "markdown",
   "metadata": {},
   "source": [
    "### 函数返回值\n",
    "\n",
    "#### 返回元组"
   ]
  },
  {
   "cell_type": "code",
   "execution_count": null,
   "metadata": {
    "collapsed": true
   },
   "outputs": [],
   "source": [
    "def materials():\n",
    "    return \"Tomato\", \"Potato\"\n",
    "ma"
   ]
  },
  {
   "cell_type": "code",
   "execution_count": null,
   "metadata": {
    "collapsed": true
   },
   "outputs": [],
   "source": []
  },
  {
   "cell_type": "code",
   "execution_count": null,
   "metadata": {
    "collapsed": true
   },
   "outputs": [],
   "source": []
  },
  {
   "cell_type": "code",
   "execution_count": null,
   "metadata": {
    "collapsed": true
   },
   "outputs": [],
   "source": []
  },
  {
   "cell_type": "code",
   "execution_count": null,
   "metadata": {
    "collapsed": true
   },
   "outputs": [],
   "source": []
  },
  {
   "cell_type": "code",
   "execution_count": null,
   "metadata": {
    "collapsed": true
   },
   "outputs": [],
   "source": []
  },
  {
   "cell_type": "code",
   "execution_count": null,
   "metadata": {
    "collapsed": true
   },
   "outputs": [],
   "source": []
  },
  {
   "cell_type": "code",
   "execution_count": null,
   "metadata": {
    "collapsed": true
   },
   "outputs": [],
   "source": []
  },
  {
   "cell_type": "code",
   "execution_count": null,
   "metadata": {
    "collapsed": true
   },
   "outputs": [],
   "source": []
  },
  {
   "cell_type": "markdown",
   "metadata": {},
   "source": [
    "## Lambda函数"
   ]
  },
  {
   "cell_type": "markdown",
   "metadata": {},
   "source": [
    "- Lambda函数一行表示多个if判断\n",
    "    - `lambda x: 语句1 if 条件1 else 语句2 if 条件2 else 语句3` 等价于 `lambda x: 语句1 if 条件1 else (语句2 if 条件2 else 语句3)`"
   ]
  },
  {
   "cell_type": "code",
   "execution_count": 7,
   "metadata": {},
   "outputs": [
    {
     "name": "stdout",
     "output_type": "stream",
     "text": [
      "1 : First\n",
      "2 : Second\n",
      "3 : Others\n"
     ]
    }
   ],
   "source": [
    "f = lambda x : \"First\" if x == 1 else \"Second\" if x == 2 else \"Others\"\n",
    "for i in [1,2,3]:\n",
    "    print(i, \":\", f(i))"
   ]
  },
  {
   "cell_type": "code",
   "execution_count": 8,
   "metadata": {},
   "outputs": [
    {
     "name": "stdout",
     "output_type": "stream",
     "text": [
      "1 : First\n",
      "2 : Second\n",
      "3 : Others\n"
     ]
    }
   ],
   "source": [
    "f = lambda x : \"First\" if x == 1 else (\"Second\" if x == 2 else \"Others\")\n",
    "for i in [1,2,3]:\n",
    "    print(i, \":\", f(i))"
   ]
  },
  {
   "cell_type": "code",
   "execution_count": null,
   "metadata": {
    "collapsed": true
   },
   "outputs": [],
   "source": []
  },
  {
   "cell_type": "code",
   "execution_count": null,
   "metadata": {
    "collapsed": true
   },
   "outputs": [],
   "source": []
  },
  {
   "cell_type": "code",
   "execution_count": null,
   "metadata": {
    "collapsed": true
   },
   "outputs": [],
   "source": []
  },
  {
   "cell_type": "code",
   "execution_count": null,
   "metadata": {
    "collapsed": true
   },
   "outputs": [],
   "source": []
  },
  {
   "cell_type": "code",
   "execution_count": null,
   "metadata": {
    "collapsed": true
   },
   "outputs": [],
   "source": []
  },
  {
   "cell_type": "code",
   "execution_count": null,
   "metadata": {
    "collapsed": true
   },
   "outputs": [],
   "source": []
  }
 ],
 "metadata": {
  "kernelspec": {
   "display_name": "Python 3",
   "language": "python",
   "name": "python3"
  },
  "language_info": {
   "codemirror_mode": {
    "name": "ipython",
    "version": 3
   },
   "file_extension": ".py",
   "mimetype": "text/x-python",
   "name": "python",
   "nbconvert_exporter": "python",
   "pygments_lexer": "ipython3",
   "version": "3.6.2"
  }
 },
 "nbformat": 4,
 "nbformat_minor": 2
}
