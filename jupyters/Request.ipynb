{
 "cells": [
  {
   "cell_type": "markdown",
   "metadata": {},
   "source": [
    "# 数据爬虫"
   ]
  },
  {
   "cell_type": "markdown",
   "metadata": {},
   "source": [
    "## Request Header(请求头)\n",
    "**使用inspect里的Network查看**\n",
    "- Accept:告诉服务器,浏览器能够处理的数据类型。\n",
    "- Accept-Charset:浏览器能显示的字符集。\n",
    "- Accept-Encoding:告诉服务器，客户机支持的数据压缩格式。\n",
    "- Aceept-Language:浏览器当前设置的语言。\n",
    "- Cache-Control：缓存控制，服务器通过控制浏览器要不要缓存数据\n",
    "- Connection:处理完这次请求，是断开连接还是保持连接\n",
    "- Cookie:客户机通过这个可以向服务器带数据\n",
    "- Host:访问的主机名\n",
    "- Upgrade-Insecure-Requests: 安全系数\n",
    "- Referer:当前页面的来源页面的地址。\n",
    "- **User-Agent:告诉服务器，客户机的软件环境**\n",
    "\n",
    "## Response Headers(响应头)\n",
    "- Connection:处理完这次请求后，是断开连接还是继续保持连接\n",
    "- Content-Encoding:服务器通过这个头告诉浏览器数据的压缩格式\n",
    "- Content-Length:服务器通过这个头告诉浏览器回送数据的长度 \n",
    "- Content-Type:服务器通过这个头告诉浏览器回送数据的类型\n",
    "- Date:当前时间值\n",
    "- Server:服务器通过这个头告诉浏览器服务器的类型\n",
    "- Vary:Accept-Encoding ——明确告知缓存服务器按照 Accept-Encoding 字段的内容，分别缓存不同的版本;\n",
    "- X-Powered-By:服务器告知客户机网站是用何种语言或框架编写的。\n",
    "\n",
    "## General Headers\n",
    "- [Status Code相应状态码](https://developer.mozilla.org/en-US/docs/Web/HTTP/Status)\n",
    "    - 200:OK\n",
    "    - 404:Not Found\n",
    "\n",
    "**对SEO重要的字段：Rerer Cookie user-agent ,Web前端会影响SEO，我们经常看到的网页不抓取、不收录、没排名和没流量有些是因为Web前端影响的。**"
   ]
  },
  {
   "cell_type": "code",
   "execution_count": 2,
   "metadata": {},
   "outputs": [],
   "source": [
    "import requests \n",
    "from bs4 import BeautifulSoup \n",
    "import re "
   ]
  },
  {
   "cell_type": "code",
   "execution_count": 7,
   "metadata": {},
   "outputs": [],
   "source": [
    "url = 'https://movie.douban.com/subject/1292052/comments'\n",
    "header = {\n",
    "    \"User-Agent\" :  \"Mozilla/5.0 (Windows NT 10.0; Win64; x64) AppleWebKit/537.36 (KHTML, like Gecko) Chrome/78.0.3904.97 Safari/537.36\"\n",
    "}"
   ]
  },
  {
   "cell_type": "code",
   "execution_count": 10,
   "metadata": {},
   "outputs": [],
   "source": [
    "r = requests.get(url, headers = header) \n",
    "soup = BeautifulSoup(r.text, 'lxml') "
   ]
  },
  {
   "cell_type": "markdown",
   "metadata": {},
   "source": [
    "获取用户评论"
   ]
  },
  {
   "cell_type": "code",
   "execution_count": 12,
   "metadata": {},
   "outputs": [],
   "source": [
    "comments = []\n",
    "pattern = soup.find_all('span', 'short')\n",
    "for item in pattern: \n",
    "    comments.append(item.string)"
   ]
  },
  {
   "cell_type": "code",
   "execution_count": 19,
   "metadata": {},
   "outputs": [],
   "source": [
    "# 获取星级\n",
    "ratings = []\n",
    "rePattern = re.compile('<span class=\"allstar(.*?) rating\"') \n",
    "ratings = re.findall(rePattern, r.text) "
   ]
  },
  {
   "cell_type": "code",
   "execution_count": null,
   "metadata": {},
   "outputs": [],
   "source": []
  },
  {
   "cell_type": "code",
   "execution_count": null,
   "metadata": {},
   "outputs": [],
   "source": []
  },
  {
   "cell_type": "code",
   "execution_count": null,
   "metadata": {},
   "outputs": [],
   "source": []
  },
  {
   "cell_type": "code",
   "execution_count": null,
   "metadata": {},
   "outputs": [],
   "source": []
  }
 ],
 "metadata": {
  "kernelspec": {
   "display_name": "Python 3",
   "language": "python",
   "name": "python3"
  },
  "language_info": {
   "codemirror_mode": {
    "name": "ipython",
    "version": 3
   },
   "file_extension": ".py",
   "mimetype": "text/x-python",
   "name": "python",
   "nbconvert_exporter": "python",
   "pygments_lexer": "ipython3",
   "version": "3.6.5"
  }
 },
 "nbformat": 4,
 "nbformat_minor": 2
}
