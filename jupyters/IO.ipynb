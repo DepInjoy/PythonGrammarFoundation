{
 "cells": [
  {
   "cell_type": "markdown",
   "metadata": {},
   "source": [
    "### 原始输入处理"
   ]
  },
  {
   "cell_type": "markdown",
   "metadata": {},
   "source": [
    " "
   ]
  },
  {
   "cell_type": "markdown",
   "metadata": {},
   "source": [
    "- input函数用于获取用户输入的任何内容并将其存储为字符串，如果想要输入转化为出字符串以外的其他类型，需要进行类型的转化。"
   ]
  },
  {
   "cell_type": "code",
   "execution_count": 6,
   "metadata": {},
   "outputs": [
    {
     "name": "stdout",
     "output_type": "stream",
     "text": [
      "Waht's your name? lucy\n",
      "and, how old are you? 18\n",
      "Lucy  and  18 years old !\n"
     ]
    }
   ],
   "source": [
    "name = input(\"Waht's your name? \")\n",
    "age = int(input(\"and, how old are you? \"))\n",
    "print(name.title(), \" and \", age, \"years old !\")"
   ]
  },
  {
   "cell_type": "markdown",
   "metadata": {},
   "source": [
    " "
   ]
  },
  {
   "cell_type": "markdown",
   "metadata": {},
   "source": [
    "- input函数输入操作添加异常处理"
   ]
  },
  {
   "cell_type": "code",
   "execution_count": 12,
   "metadata": {},
   "outputs": [
    {
     "name": "stdout",
     "output_type": "stream",
     "text": [
      "How old are you ? t\n",
      "Invalid input !\n",
      "Attemp input finished !\n"
     ]
    }
   ],
   "source": [
    "try:\n",
    "    age = int(input(\"How old are you ? \"))\n",
    "except:\n",
    "    print(\"Invalid input !\")\n",
    "else:\n",
    "    print(\"Valid input !\")\n",
    "finally:\n",
    "    print(\"Attemp input finished !\")"
   ]
  },
  {
   "cell_type": "markdown",
   "metadata": {},
   "source": [
    " "
   ]
  },
  {
   "cell_type": "markdown",
   "metadata": {},
   "source": [
    "- 内置函数 eval 将用户输入解析为 Python 表达式，它会将字符串评估为一行Python代码"
   ]
  },
  {
   "cell_type": "code",
   "execution_count": 7,
   "metadata": {},
   "outputs": [
    {
     "name": "stdout",
     "output_type": "stream",
     "text": [
      "Enter an expression: 2*3\n",
      "6\n"
     ]
    }
   ],
   "source": [
    "result = eval(input(\"Enter an expression: \"))\n",
    "print(result)"
   ]
  },
  {
   "cell_type": "markdown",
   "metadata": {},
   "source": [
    " "
   ]
  },
  {
   "cell_type": "markdown",
   "metadata": {},
   "source": [
    "#### 文件读写操作\n",
    "- open(file_name, mode) 打开文件\n",
    "    rb:二进制方式打开；r+:读写模式；w:只写模式，创建新的文件，如果存在同名文件则删除；r:只读模式\n",
    "- close() 关闭文件"
   ]
  },
  {
   "cell_type": "markdown",
   "metadata": {},
   "source": [
    " "
   ]
  },
  {
   "cell_type": "markdown",
   "metadata": {},
   "source": [
    "- read() 方法用于从文件读取指定的字节数，如果未给定或为负则读取所有"
   ]
  },
  {
   "cell_type": "code",
   "execution_count": 7,
   "metadata": {
    "collapsed": true
   },
   "outputs": [],
   "source": [
    "with open(\"demo.txt\", \"r\") as f:\n",
    "    # 读取文件开头的两个字节的数据\n",
    "    f.read(2)\n",
    "    # 读取从当前位置到文件尾的所有数据\n",
    "    f.read()"
   ]
  },
  {
   "cell_type": "markdown",
   "metadata": {},
   "source": [
    " "
   ]
  },
  {
   "cell_type": "markdown",
   "metadata": {},
   "source": [
    "- file object是迭代器，可以直接循环逐行获取文件内容"
   ]
  },
  {
   "cell_type": "code",
   "execution_count": 2,
   "metadata": {},
   "outputs": [
    {
     "name": "stdout",
     "output_type": "stream",
     "text": [
      "Hello\n",
      "Nice to meet you!\n",
      "See you !\n"
     ]
    }
   ],
   "source": [
    "with open(\"demo.txt\", \"r\") as f:\n",
    "    for line in f:\n",
    "        # 去除末尾的空格\n",
    "        line = line.rstrip()\n",
    "        print(line)"
   ]
  },
  {
   "cell_type": "markdown",
   "metadata": {},
   "source": [
    " "
   ]
  },
  {
   "cell_type": "markdown",
   "metadata": {},
   "source": [
    "- readline按顺序读取文件的一行"
   ]
  },
  {
   "cell_type": "code",
   "execution_count": null,
   "metadata": {
    "collapsed": true
   },
   "outputs": [],
   "source": [
    "with open(\"demo.txt\", \"r\") as f:\n",
    "    print(f.readline())\n",
    "    print(f.readline())"
   ]
  },
  {
   "cell_type": "markdown",
   "metadata": {},
   "source": [
    " "
   ]
  },
  {
   "cell_type": "markdown",
   "metadata": {},
   "source": [
    "- readlines读取文件的所有内容为list，每行数据为一个元素"
   ]
  },
  {
   "cell_type": "code",
   "execution_count": 10,
   "metadata": {
    "collapsed": true
   },
   "outputs": [],
   "source": [
    "with open(\"demo.txt\", \"r\") as f:\n",
    "    lines = f.readlines()\n",
    "    for line in lines:\n",
    "        line"
   ]
  },
  {
   "cell_type": "markdown",
   "metadata": {},
   "source": [
    " \n",
    " "
   ]
  },
  {
   "cell_type": "markdown",
   "metadata": {},
   "source": [
    "### 平面文件"
   ]
  },
  {
   "cell_type": "markdown",
   "metadata": {},
   "source": [
    " "
   ]
  },
  {
   "cell_type": "markdown",
   "metadata": {},
   "source": [
    "- csv文件"
   ]
  },
  {
   "cell_type": "code",
   "execution_count": null,
   "metadata": {
    "collapsed": true
   },
   "outputs": [],
   "source": [
    "import pandas as pd\n",
    "df = pd.read_csv(\"xxxx.csv\")"
   ]
  },
  {
   "cell_type": "markdown",
   "metadata": {},
   "source": [
    " "
   ]
  },
  {
   "cell_type": "markdown",
   "metadata": {},
   "source": [
    "- tsv文件"
   ]
  },
  {
   "cell_type": "code",
   "execution_count": null,
   "metadata": {
    "collapsed": true
   },
   "outputs": [],
   "source": [
    "df = pd.read_csv(\"xxxx.tsv\", \"\\t\")"
   ]
  },
  {
   "cell_type": "markdown",
   "metadata": {},
   "source": [
    " "
   ]
  },
  {
   "cell_type": "markdown",
   "metadata": {},
   "source": [
    "#### Json文件"
   ]
  },
  {
   "cell_type": "code",
   "execution_count": null,
   "metadata": {
    "collapsed": true
   },
   "outputs": [],
   "source": [
    "df = pd.read_json()"
   ]
  },
  {
   "cell_type": "code",
   "execution_count": null,
   "metadata": {
    "collapsed": true
   },
   "outputs": [],
   "source": [
    "df.to_json()"
   ]
  },
  {
   "cell_type": "code",
   "execution_count": null,
   "metadata": {
    "collapsed": true
   },
   "outputs": [],
   "source": []
  },
  {
   "cell_type": "markdown",
   "metadata": {},
   "source": [
    "### 目录操作\n",
    "\n",
    "#### 文件创建、删除、更改名称"
   ]
  },
  {
   "cell_type": "code",
   "execution_count": 11,
   "metadata": {
    "collapsed": true
   },
   "outputs": [],
   "source": [
    "import os\n",
    "\n",
    "# 获取当前路径\n",
    "os.getcwd()\n",
    "\n",
    "# 文件重命名\n",
    "os.rename('note.txt', 'note1.txt')\n",
    "\n",
    "# 创建目录\n",
    "os.mkdir('test')\n",
    "\n",
    "#删除目录\n",
    "os.rmdir('test')\n",
    "\n",
    "# 更改当前路径\n",
    "os.chdir(\"D://share\")"
   ]
  },
  {
   "cell_type": "markdown",
   "metadata": {},
   "source": [
    "#### 文件名称的模式匹配\n",
    "\n",
    "glob在通过名称与模式匹配的方式查找文件列表时，很有用\n",
    "\n",
    "- `*`匹配名称段中的零个或多个字符\n",
    "- `?`匹配前面的表达式零次或一次"
   ]
  },
  {
   "cell_type": "code",
   "execution_count": 6,
   "metadata": {},
   "outputs": [
    {
     "name": "stdout",
     "output_type": "stream",
     "text": [
      "Class.ipynb\n",
      "ContextManager.ipynb\n",
      "Crawler.ipynb\n",
      "DataAnalysis.ipynb\n",
      "DataStruct.ipynb\n",
      "Decorator.ipynb\n",
      "Exception.ipynb\n",
      "Function.ipynb\n",
      "IO.ipynb\n",
      "Pandas.ipynb\n",
      "RegExpression.ipynb\n",
      "Request.ipynb\n",
      "Visualization.ipynb\n"
     ]
    }
   ],
   "source": [
    "import glob\n",
    "for item in glob.glob(\"*.ipynb\"):\n",
    "    print(item)"
   ]
  },
  {
   "cell_type": "code",
   "execution_count": 5,
   "metadata": {},
   "outputs": [
    {
     "name": "stdout",
     "output_type": "stream",
     "text": [
      "IO.ipynb\n"
     ]
    }
   ],
   "source": [
    "for item in glob.glob(\"??.ipynb\"):\n",
    "    print(item)"
   ]
  },
  {
   "cell_type": "code",
   "execution_count": null,
   "metadata": {
    "collapsed": true
   },
   "outputs": [],
   "source": []
  }
 ],
 "metadata": {
  "kernelspec": {
   "display_name": "Python 3",
   "language": "python",
   "name": "python3"
  },
  "language_info": {
   "codemirror_mode": {
    "name": "ipython",
    "version": 3
   },
   "file_extension": ".py",
   "mimetype": "text/x-python",
   "name": "python",
   "nbconvert_exporter": "python",
   "pygments_lexer": "ipython3",
   "version": "3.6.2"
  }
 },
 "nbformat": 4,
 "nbformat_minor": 2
}
