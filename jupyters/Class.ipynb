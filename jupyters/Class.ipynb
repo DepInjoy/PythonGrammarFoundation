{
 "cells": [
  {
   "cell_type": "markdown",
   "metadata": {},
   "source": [
    "### 继承"
   ]
  },
  {
   "cell_type": "code",
   "execution_count": 1,
   "metadata": {},
   "outputs": [],
   "source": [
    "'''\n",
    "父类，模拟汽车的行为和属性\n",
    "'''\n",
    "class Car():\n",
    "    def __init__(self, make, model, year):\n",
    "        self.make = make\n",
    "        self.model = model\n",
    "        self.year = year\n",
    "        self.odometer_reading = 0\n",
    "    \n",
    "    def get_descriptive_name(self):\n",
    "        long_name = str(self.year) + \" \" + self.make + \" \" + self.model\n",
    "        return long_name.title()\n",
    "    \n",
    "    def read_odometer(self):\n",
    "        print(\"This car has\", str(self.odometer_reading) + \"miles on it.\")\n",
    "        \n",
    "    def update_odometer(self, miles):\n",
    "        if miles >= self.odometer_reading:\n",
    "            self.odometer_reading = miles\n",
    "        else:\n",
    "            print(\"Can't roll back an odometer!\")\n",
    "            \n",
    "    def increment_odometer(self, miles):\n",
    "        self.odometer_reading += miles\n",
    "    \n",
    "    def fill_gas_tank(self):\n",
    "        print(\"Filling gas!\")"
   ]
  },
  {
   "cell_type": "code",
   "execution_count": 11,
   "metadata": {},
   "outputs": [
    {
     "name": "stdout",
     "output_type": "stream",
     "text": [
      "2016 Tesla Model_S\n",
      "This car has a 70-kWh battery.\n",
      "This car doesn't need a gas tank!\n"
     ]
    }
   ],
   "source": [
    "'''\n",
    "继承Car的子类，实现电动车方法和属性的定义。\n",
    "'''\n",
    "class ElectricCar(Car):\n",
    "    def __init__(self, make, model, year, battery_size):\n",
    "        # 初始化父类属性\n",
    "        super().__init__(make, model, year)\n",
    "        \n",
    "        #添加电动汽车的独特属性\n",
    "        self.battery_size = battery_size\n",
    "    def describe_battery(self):\n",
    "        print(\"This car has a \" + str(self.battery_size) + \"-kWh battery.\")\n",
    "    \n",
    "    '''\n",
    "    重写父类方法\n",
    "        子类对于父类定义的行为时，可以进行重写\n",
    "    '''\n",
    "    def fill_gas_tank(self):\n",
    "        print(\"This car doesn't need a gas tank!\")\n",
    "        \n",
    "my_tesla = ElectricCar(\"tesla\", \"model_s\", 2016, 70)\n",
    "print(my_tesla.get_descriptive_name())\n",
    "my_tesla.describe_battery()\n",
    "my_tesla.fill_gas_tank()"
   ]
  },
  {
   "cell_type": "markdown",
   "metadata": {},
   "source": [
    "### 实例用作属性\n",
    "\n",
    "我们可以将类的一部分作为一个独立的类提取出来，实现将大型的类拆分为多个协同工作的小类。"
   ]
  },
  {
   "cell_type": "code",
   "execution_count": 13,
   "metadata": {},
   "outputs": [],
   "source": [
    "class Battery():\n",
    "    '''\n",
    "    模拟电池\n",
    "    '''\n",
    "    def __init__(self, size = 70):\n",
    "        self.size = size\n",
    "    \n",
    "    def describe_battery(self):\n",
    "        print(\"This car has a \" + str(self.size) + \"-kWh battery.\")"
   ]
  },
  {
   "cell_type": "code",
   "execution_count": 14,
   "metadata": {},
   "outputs": [
    {
     "name": "stdout",
     "output_type": "stream",
     "text": [
      "This car has a 70-kWh battery.\n"
     ]
    }
   ],
   "source": [
    "class ElectricCar(Car):\n",
    "    def __init__(self, make, model, year, battery_size):\n",
    "        # 初始化父类属性\n",
    "        super().__init__(make, model, year)\n",
    "        self.battery = Battery()\n",
    "        \n",
    "my_tesla = ElectricCar(\"tesla\", \"model_s\", 2016, 70)\n",
    "my_tesla.battery.describe_battery()"
   ]
  },
  {
   "cell_type": "code",
   "execution_count": null,
   "metadata": {},
   "outputs": [],
   "source": []
  },
  {
   "cell_type": "code",
   "execution_count": null,
   "metadata": {},
   "outputs": [],
   "source": []
  },
  {
   "cell_type": "code",
   "execution_count": null,
   "metadata": {},
   "outputs": [],
   "source": []
  },
  {
   "cell_type": "code",
   "execution_count": null,
   "metadata": {},
   "outputs": [],
   "source": []
  },
  {
   "cell_type": "code",
   "execution_count": null,
   "metadata": {},
   "outputs": [],
   "source": []
  },
  {
   "cell_type": "code",
   "execution_count": null,
   "metadata": {},
   "outputs": [],
   "source": []
  },
  {
   "cell_type": "code",
   "execution_count": null,
   "metadata": {},
   "outputs": [],
   "source": []
  },
  {
   "cell_type": "code",
   "execution_count": null,
   "metadata": {},
   "outputs": [],
   "source": []
  },
  {
   "cell_type": "code",
   "execution_count": null,
   "metadata": {},
   "outputs": [],
   "source": []
  },
  {
   "cell_type": "code",
   "execution_count": null,
   "metadata": {},
   "outputs": [],
   "source": []
  },
  {
   "cell_type": "code",
   "execution_count": null,
   "metadata": {},
   "outputs": [],
   "source": []
  }
 ],
 "metadata": {
  "kernelspec": {
   "display_name": "Python 3",
   "language": "python",
   "name": "python3"
  },
  "language_info": {
   "codemirror_mode": {
    "name": "ipython",
    "version": 3
   },
   "file_extension": ".py",
   "mimetype": "text/x-python",
   "name": "python",
   "nbconvert_exporter": "python",
   "pygments_lexer": "ipython3",
   "version": "3.7.0"
  }
 },
 "nbformat": 4,
 "nbformat_minor": 2
}
