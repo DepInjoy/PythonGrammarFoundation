{
 "cells": [
  {
   "cell_type": "markdown",
   "metadata": {},
   "source": [
    "# 正则表达式\n",
    "\n",
    "[正则表达式验证网站](https://regex101.com/)\n",
    "\n",
    "[廖雪峰正则表达式](https://www.liaoxuefeng.com/wiki/1016959663602400/1017639890281664)\n",
    "\n",
    "\n",
    "- `\\d`匹配任意一个数字\n",
    "- `\\D`匹配任意一个非数字\n",
    "- `\\w`匹配任意一个数字或者字母\n",
    "- `\\W`匹配任意非数字或者字母\n",
    "- `.`匹配任意一个字符\n",
    "- `\\.`Period\n",
    "- `*`表示任意个字符（包括0个）\n",
    "- `+`表示至少一个字符\n",
    "- `?`表示0个或1个字符，\n",
    "- `{n}`表示n个字符\n",
    "- `{n,m}`表示n-m个字符\n",
    "- `[]`表示范围，`[0-9a-zA-Z\\_]`可以匹配一个数字、字母或者下划线\n",
    "- `^`表示行的开头，如`^\\d`表示必须以数字开头。\n",
    "- `$`表示行的结尾，如`$\\d`表示必须以数字结尾。\n",
    "- `\\s`表示匹配一个空格，其中包括tab等空白符。\n",
    "- `\\S`表示匹配任何非空格字符。\n",
    "- `A|B`匹配A或者B\n",
    "- `.*`所有"
   ]
  },
  {
   "cell_type": "markdown",
   "metadata": {},
   "source": [
    "## match方法\n",
    "判断是否匹配，如果匹配成功，则返回Match对象，否则返回None."
   ]
  },
  {
   "cell_type": "code",
   "execution_count": 16,
   "metadata": {},
   "outputs": [
    {
     "name": "stdout",
     "output_type": "stream",
     "text": [
      "请您输入: 010-12345\n",
      "OK <re.Match object; span=(0, 9), match='010-12345'>\n",
      "请您输入: 010-12345678\n",
      "OK <re.Match object; span=(0, 12), match='010-12345678'>\n",
      "请您输入: 010-123456789\n",
      "Invalid\n",
      "请您输入: 010123456\n",
      "Invalid\n",
      "请您输入: q\n"
     ]
    }
   ],
   "source": [
    "import re\n",
    "while True:\n",
    "    instr = input(\"请您输入: \")\n",
    "    if instr == \"Q\" or instr == \"q\":\n",
    "        break;\n",
    "    matched = re.match(r\"^\\d{3}\\-\\d{3,8}$\", instr)\n",
    "    if matched :\n",
    "        print(\"OK\", matched)\n",
    "    else:\n",
    "        print(\"Invalid\")"
   ]
  },
  {
   "cell_type": "markdown",
   "metadata": {},
   "source": [
    "## 切分字符串"
   ]
  },
  {
   "cell_type": "code",
   "execution_count": 17,
   "metadata": {},
   "outputs": [
    {
     "data": {
      "text/plain": [
       "['a', 'b', 'c', 'd']"
      ]
     },
     "execution_count": 17,
     "metadata": {},
     "output_type": "execute_result"
    }
   ],
   "source": [
    "instr = \"a b c d\"\n",
    "re.split(r\"\\s\", instr)"
   ]
  },
  {
   "cell_type": "code",
   "execution_count": 18,
   "metadata": {},
   "outputs": [
    {
     "data": {
      "text/plain": [
       "['a', 'b', 'c', 'd']"
      ]
     },
     "execution_count": 18,
     "metadata": {},
     "output_type": "execute_result"
    }
   ],
   "source": [
    "instr = \"a b c    d\"\n",
    "re.split(r\"\\s+\", instr)"
   ]
  },
  {
   "cell_type": "code",
   "execution_count": 19,
   "metadata": {},
   "outputs": [
    {
     "data": {
      "text/plain": [
       "['a', 'b', 'c', 'd']"
      ]
     },
     "execution_count": 19,
     "metadata": {},
     "output_type": "execute_result"
    }
   ],
   "source": [
    "instr = \"a b, c, ;   d\"\n",
    "re.split(r\"[\\s\\,\\;]+\", instr)"
   ]
  },
  {
   "cell_type": "markdown",
   "metadata": {},
   "source": [
    "## 分组\n",
    "`()`表示要提取的分组\n",
    "\n",
    "group(0)表示原始字符\n",
    "group(1)表示第一个子串\n",
    "group(2)表示第一个子串\n",
    "....\n",
    "group(n)表示第n个子串"
   ]
  },
  {
   "cell_type": "code",
   "execution_count": 24,
   "metadata": {},
   "outputs": [
    {
     "name": "stdout",
     "output_type": "stream",
     "text": [
      "a010-123456\n",
      "010\n",
      "123456\n"
     ]
    }
   ],
   "source": [
    "matched = re.match(r\"\\w(\\d{3})\\-(\\d{3,8})$\", \"a010-123456\")\n",
    "print(matched.group(0))\n",
    "print(matched.group(1))\n",
    "print(matched.group(2))"
   ]
  },
  {
   "cell_type": "markdown",
   "metadata": {},
   "source": [
    "默认采用的是贪婪匹配，也就是尽可能多的匹配多个字符，可以采用？表示非贪婪"
   ]
  },
  {
   "cell_type": "code",
   "execution_count": 33,
   "metadata": {},
   "outputs": [
    {
     "name": "stdout",
     "output_type": "stream",
     "text": [
      "('102300', '')\n",
      "('1023', '00')\n"
     ]
    }
   ],
   "source": [
    "# 贪婪匹配\n",
    "print(re.match(r\"^(\\d+)(0*)$\", \"1023001\").groups())\n",
    "\n",
    "#非贪婪匹配\n",
    "print(re.match(r\"^(\\d+?)(0*)\", \"102300\").groups())"
   ]
  },
  {
   "cell_type": "code",
   "execution_count": 1,
   "metadata": {},
   "outputs": [
    {
     "name": "stdout",
     "output_type": "stream",
     "text": [
      "Big Jumpy Rat\n",
      "Big Jumpy Rat\n"
     ]
    }
   ],
   "source": [
    "import re\n",
    "reStr = \"His\\sname\\sis\\s([\\w|\\s]+)[\\.|\\,]\"\n",
    "s = \"Another topnotch dog. His name is Big Jumpy Rat. Massive ass feet.Superior tail. Jumps high af. 12/10 great pup\"\n",
    "matches = re.finditer(reStr, s, re.MULTILINE)\n",
    "for matchNum, match in enumerate(matches, start=1):\n",
    "    print(match.group(len(match.groups())))\n",
    "    for groupNum in range(0, len(match.groups())):\n",
    "        groupNum = groupNum + 1    \n",
    "        print (match.group(groupNum))"
   ]
  },
  {
   "cell_type": "code",
   "execution_count": null,
   "metadata": {},
   "outputs": [],
   "source": []
  }
 ],
 "metadata": {
  "kernelspec": {
   "display_name": "Python 3",
   "language": "python",
   "name": "python3"
  },
  "language_info": {
   "codemirror_mode": {
    "name": "ipython",
    "version": 3
   },
   "file_extension": ".py",
   "mimetype": "text/x-python",
   "name": "python",
   "nbconvert_exporter": "python",
   "pygments_lexer": "ipython3",
   "version": "3.6.5"
  }
 },
 "nbformat": 4,
 "nbformat_minor": 2
}
