{
 "cells": [
  {
   "cell_type": "markdown",
   "metadata": {},
   "source": [
    "## ETL\n",
    "- 1.从不同的源文件中提取数据，如csv 文件、json 文件、APIs\n",
    "- 数据转换\n",
    "    - 将从不同数据源的数据结合起来\n",
    "- 清洗数据\n",
    "    - 数据格式\n",
    "    - 解析日期格式\n",
    "    - 文件字符编码\n",
    "    - 缺失数据\n",
    "    - 重复数据\n",
    "    - 虚拟变量\n",
    "    - 删除离群值\n",
    "    - 特征缩放\n",
    "    - 特征工程\n",
    "- 加载\n",
    "    - 将转换过的数据加载到数据库\n",
    "- ETL 管道\n",
    "    - 编写 ETL 管道代码\n",
    "\n",
    "\n",
    "数据源\n",
    "- [世界银行指标数据](https://data.worldbank.org/indicator) ——这个数据集包括全世界各个国家的社会经济学指标，比如人口、耕地和中央政府债务。\n",
    "- [世界银行项目数据](https://datacatalog.worldbank.org/dataset/world-bank-projects-operations) ——这个数据集包括世界银行自 1947 年以来的项目的贷款信息。"
   ]
  },
  {
   "cell_type": "code",
   "execution_count": null,
   "metadata": {},
   "outputs": [],
   "source": []
  }
 ],
 "metadata": {
  "kernelspec": {
   "display_name": "Python 3",
   "language": "python",
   "name": "python3"
  },
  "language_info": {
   "codemirror_mode": {
    "name": "ipython",
    "version": 3
   },
   "file_extension": ".py",
   "mimetype": "text/x-python",
   "name": "python",
   "nbconvert_exporter": "python",
   "pygments_lexer": "ipython3",
   "version": "3.6.5"
  }
 },
 "nbformat": 4,
 "nbformat_minor": 2
}
