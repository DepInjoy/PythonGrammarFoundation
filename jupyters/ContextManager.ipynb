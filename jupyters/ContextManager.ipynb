{
 "cells": [
  {
   "cell_type": "markdown",
   "metadata": {},
   "source": [
    " "
   ]
  },
  {
   "cell_type": "markdown",
   "metadata": {},
   "source": [
    "# 上下文管理器和With语句\n",
    "- manage resources(资源管理)\n",
    "\n",
    "\n",
    "**优秀博客推荐**\n",
    "- [Python with Context Managers](https://jeffknupp.com/blog/2016/03/07/python-with-context-managers/)"
   ]
  },
  {
   "cell_type": "markdown",
   "metadata": {},
   "source": [
    "以打开文件为例，理解上下文管理器的必要性。系统中的文件描述符是有限的，在实际的编程中，被打开的文件描述符需要及时到进行close来释放相关的资源，否则会导致资源耗尽从而出现问题。"
   ]
  },
  {
   "cell_type": "code",
   "execution_count": 9,
   "metadata": {},
   "outputs": [
    {
     "ename": "OSError",
     "evalue": "[Errno 24] Too many open files: 'foo.txt'",
     "output_type": "error",
     "traceback": [
      "\u001b[1;31m---------------------------------------------------------------------------\u001b[0m",
      "\u001b[1;31mOSError\u001b[0m                                   Traceback (most recent call last)",
      "\u001b[1;32m<ipython-input-9-24eb95eb113d>\u001b[0m in \u001b[0;36m<module>\u001b[1;34m()\u001b[0m\n\u001b[0;32m      1\u001b[0m \u001b[0mfiles\u001b[0m \u001b[1;33m=\u001b[0m \u001b[1;33m[\u001b[0m\u001b[1;33m]\u001b[0m\u001b[1;33m\u001b[0m\u001b[0m\n\u001b[0;32m      2\u001b[0m \u001b[1;32mfor\u001b[0m \u001b[0mx\u001b[0m \u001b[1;32min\u001b[0m \u001b[0mrange\u001b[0m\u001b[1;33m(\u001b[0m\u001b[1;36m100000\u001b[0m\u001b[1;33m)\u001b[0m\u001b[1;33m:\u001b[0m\u001b[1;33m\u001b[0m\u001b[0m\n\u001b[1;32m----> 3\u001b[1;33m     \u001b[0mfiles\u001b[0m\u001b[1;33m.\u001b[0m\u001b[0mappend\u001b[0m\u001b[1;33m(\u001b[0m\u001b[0mopen\u001b[0m\u001b[1;33m(\u001b[0m\u001b[1;34m'foo.txt'\u001b[0m\u001b[1;33m,\u001b[0m \u001b[1;34m'w'\u001b[0m\u001b[1;33m)\u001b[0m\u001b[1;33m)\u001b[0m\u001b[1;33m\u001b[0m\u001b[0m\n\u001b[0m",
      "\u001b[1;31mOSError\u001b[0m: [Errno 24] Too many open files: 'foo.txt'"
     ]
    }
   ],
   "source": [
    "files = []\n",
    "for x in range(100000):\n",
    "    files.append(open('foo.txt', 'w'))"
   ]
  },
  {
   "cell_type": "markdown",
   "metadata": {},
   "source": [
    "## with语句\n",
    "\n",
    "with语句适用于于对资源进行访问的场合。确保使用过程中不管是否发生异常，都会执行必要的“清理”操作，并释放资源。比如文件使用后自动关闭，线程中锁的自动获取和释放。"
   ]
  },
  {
   "cell_type": "code",
   "execution_count": 2,
   "metadata": {},
   "outputs": [
    {
     "name": "stdout",
     "output_type": "stream",
     "text": [
      "Read failed,  [Errno 2] No such file or directory: './data.txt'\n"
     ]
    }
   ],
   "source": [
    "# 文件不存在时的情况\n",
    "try:\n",
    "    with open('./data.txt') as f:\n",
    "        for line in f:\n",
    "            print(line, end='')\n",
    "except IOError as err:\n",
    "    print(\"Read failed, \", err)"
   ]
  },
  {
   "cell_type": "markdown",
   "metadata": {},
   "source": [
    "## 上下文管理器\n",
    "\n",
    "[segmentfault:上下文管理器](https://segmentfault.com/a/1190000018846260)\n",
    "\n",
    "### 创建上下文管理器\n",
    "\n",
    "#### `__enter__()`和`__exit__()`实现创建上下文管理器\n",
    "\n",
    "最简单的方式是在class中添加两个方法：\n",
    "- `__enter__()` 返回被管理的资源，例如文件描述符\n",
    "- `__exit__()`进行资源清理工作，无返回值。"
   ]
  },
  {
   "cell_type": "code",
   "execution_count": 12,
   "metadata": {
    "collapsed": true
   },
   "outputs": [],
   "source": [
    "'''\n",
    "创建上下文管理器\n",
    "'''\n",
    "class File():\n",
    "    def __init__(self, fileName, mode):\n",
    "        self._fileName = fileName\n",
    "        self._mode = mode\n",
    "    def __enter__(self):\n",
    "        self.file = open(self._fileName, self._mode)\n",
    "        return self.file\n",
    "    def __exit__(self, *args):\n",
    "        self.file.close()\n",
    "\n",
    "'''\n",
    "测试\n",
    "    同样地打开多个文件，并没有显式地调用close()\n",
    "    可是，通过上线文管理器，并没有出现问题。\n",
    "'''\n",
    "files = []\n",
    "for i in range(10000):\n",
    "    with File('foo.txt', 'w') as f:\n",
    "        f.write(\"foo\")\n",
    "        files.append(f)"
   ]
  },
  {
   "cell_type": "markdown",
   "metadata": {},
   "source": [
    "#### 通过contextlib来创建上下文管理器\n",
    "\n",
    "其中，yield相当于__enter__(),yield之后的语句相当于__exit__()语句。"
   ]
  },
  {
   "cell_type": "code",
   "execution_count": 1,
   "metadata": {
    "collapsed": true
   },
   "outputs": [],
   "source": [
    "from contextlib import contextmanager\n",
    "\n",
    "'''\n",
    "创建上下文管理器\n",
    "'''\n",
    "@contextmanager\n",
    "def openFile(fileName, mode= \"r\"):\n",
    "    file = open(fileName, mode)\n",
    "    yield file\n",
    "    file.close()\n",
    "\n",
    "'''\n",
    "测试\n",
    "    打开10000个文件，非显式代用close(),查看是否会成功。\n",
    "'''\n",
    "files = []\n",
    "for i in range(10000):\n",
    "    with openFile('foo.txt', 'w') as f:\n",
    "        f.write(\"foo\")\n",
    "        files.append(f)\n",
    "\n",
    "for file in files:\n",
    "    if not file.closed:\n",
    "        print(\"File's not closed\")"
   ]
  },
  {
   "cell_type": "markdown",
   "metadata": {},
   "source": [
    "通过继承contextlib.ContextDecorator创建上下文管理器"
   ]
  },
  {
   "cell_type": "code",
   "execution_count": 24,
   "metadata": {},
   "outputs": [
    {
     "name": "stdout",
     "output_type": "stream",
     "text": [
      "<p>\n",
      "This is a paragraph.\n",
      "<p>\n"
     ]
    }
   ],
   "source": [
    "from contextlib import ContextDecorator\n",
    "\n",
    "class makeParagraph(ContextDecorator):\n",
    "    def __enter__(self):\n",
    "        print(\"<p>\")\n",
    "        return self\n",
    "    \n",
    "    def __exit__(self, *argc):\n",
    "        print(\"<p>\")\n",
    "\n",
    "@makeParagraph()\n",
    "def createHtml(word):\n",
    "    print(word)\n",
    "\n",
    "createHtml(\"This is a paragraph.\")"
   ]
  },
  {
   "cell_type": "markdown",
   "metadata": {},
   "source": [
    "#### functools实现上下文管理器\n",
    "\n",
    "- total_ordering可以方便实现比较大小,此时需要实现`__lt__、__le__、__gt__、__ge__`的至少一个。"
   ]
  },
  {
   "cell_type": "code",
   "execution_count": 10,
   "metadata": {},
   "outputs": [
    {
     "name": "stdout",
     "output_type": "stream",
     "text": [
      "Comparing two pig\n",
      "False\n",
      "****************************************\n",
      "Comparing two pig\n",
      "True\n",
      "******************** 1 ********************\n",
      "False\n"
     ]
    }
   ],
   "source": [
    "from functools import total_ordering\n",
    "\n",
    "@total_ordering\n",
    "class Pig:\n",
    "    def __init__(self, price = 68, year = 2019):\n",
    "        self.price = price\n",
    "        self.year = year\n",
    "   \n",
    "    def __lt__(self, other):\n",
    "        # 如果需要比较大小，必须实现<, >,  <=,  >=一个其中的一个\n",
    "        print(\"Comparing two pig\")\n",
    "        return self.price < other.price\n",
    "\n",
    "pig2019 = Pig()\n",
    "pig2018 = Pig(18, 2018)\n",
    "print(pig2019 < pig2018)\n",
    "print(\"*\"*40)\n",
    "print(pig2019 > pig2018)"
   ]
  },
  {
   "cell_type": "markdown",
   "metadata": {
    "collapsed": true
   },
   "source": [
    "- **partial将原函数的部分参数初始换为固定值，实际的调用中只需要传递其他未固定的其他参数即可。**"
   ]
  },
  {
   "cell_type": "code",
   "execution_count": 14,
   "metadata": {},
   "outputs": [
    {
     "data": {
      "text/plain": [
       "8"
      ]
     },
     "execution_count": 14,
     "metadata": {},
     "output_type": "execute_result"
    }
   ],
   "source": [
    "import functools\n",
    "\n",
    "def add(a, b):\n",
    "    return a+b\n",
    "add = functools.partial(add, 6)\n",
    "add(2)"
   ]
  },
  {
   "cell_type": "markdown",
   "metadata": {},
   "source": [
    "- **wraps函数可以实现保留原函数属性的迭代器**\n",
    "\n",
    "[知乎对装饰器的深度解析](https://zhuanlan.zhihu.com/p/45458873)"
   ]
  },
  {
   "cell_type": "code",
   "execution_count": 27,
   "metadata": {},
   "outputs": [
    {
     "name": "stdout",
     "output_type": "stream",
     "text": [
      "2019-12-16 14:36:25 Call add with decorator with parameter , result =  8\n"
     ]
    }
   ],
   "source": [
    "import time\n",
    "from functools import wraps\n",
    "\n",
    "def log(param):\n",
    "    def decorator(func):\n",
    "        @wraps(func)\n",
    "        def wrapper(*args, **kw):\n",
    "            curTime = time.strftime('%Y-%m-%d %H:%M:%S', time.localtime(time.time()))\n",
    "            print(\"{0} Call {1} with {2}\".format(curTime, func.__name__, param), end=\"\")\n",
    "            return func(*args, **kw)\n",
    "        return wrapper\n",
    "    return decorator\n",
    "\n",
    "@log(\"decorator with parameter \")\n",
    "def add(a, b):\n",
    "    return a +b\n",
    "\n",
    "print(\", result = \", add(2, 6))"
   ]
  },
  {
   "cell_type": "code",
   "execution_count": null,
   "metadata": {
    "collapsed": true
   },
   "outputs": [],
   "source": []
  },
  {
   "cell_type": "markdown",
   "metadata": {},
   "source": [
    "#### 高阶函数实现迭代器\n",
    "该方式实现的迭代器将会丢失原函数的属性，如果想要保留原函数的属性，可以考虑使用functools.wraps。"
   ]
  },
  {
   "cell_type": "code",
   "execution_count": 17,
   "metadata": {},
   "outputs": [
    {
     "name": "stdout",
     "output_type": "stream",
     "text": [
      "2019-12-16 14:14:30 Call add 8\n"
     ]
    }
   ],
   "source": [
    "import time\n",
    "\n",
    "def format_log(func):\n",
    "    def handler(*args, **kw):\n",
    "        curTime = time.strftime('%Y-%m-%d %H:%M:%S',time.localtime(time.time()))\n",
    "        print(\"{0} Call {1} \".format(curTime, func.__name__), end = \"\")\n",
    "        return func(*args, **kw)\n",
    "    return handler\n",
    "\n",
    "@format_log\n",
    "def add(a, b):\n",
    "    return a + b\n",
    "\n",
    "print(add(2, 6))"
   ]
  },
  {
   "cell_type": "code",
   "execution_count": null,
   "metadata": {
    "collapsed": true
   },
   "outputs": [],
   "source": []
  },
  {
   "cell_type": "markdown",
   "metadata": {},
   "source": [
    "### 可用的上下文管理器\n",
    "\n",
    "- threading的Lock objects\n",
    "- zipfile.ZipFiles\n",
    "- subprocess.Popen\n",
    "- tarfile.TarFile\n",
    "- telnetlib.Telnet\n",
    "- pathlib.Path"
   ]
  },
  {
   "cell_type": "code",
   "execution_count": 26,
   "metadata": {},
   "outputs": [
    {
     "name": "stdout",
     "output_type": "stream",
     "text": [
      "Got an exception\n",
      "Got here\n"
     ]
    }
   ],
   "source": [
    "from threading import Lock\n",
    "lock = Lock()\n",
    "\n",
    "def do_something_dangerous():\n",
    "    with lock:\n",
    "        raise Exception('oops I forgot this code could raise exceptions')\n",
    "\n",
    "try:\n",
    "    do_something_dangerous()\n",
    "except:\n",
    "    print('Got an exception')\n",
    "#lock.acquire()\n",
    "print('Got here')"
   ]
  },
  {
   "cell_type": "code",
   "execution_count": null,
   "metadata": {
    "collapsed": true
   },
   "outputs": [],
   "source": []
  },
  {
   "cell_type": "code",
   "execution_count": null,
   "metadata": {
    "collapsed": true
   },
   "outputs": [],
   "source": []
  },
  {
   "cell_type": "code",
   "execution_count": null,
   "metadata": {
    "collapsed": true
   },
   "outputs": [],
   "source": []
  },
  {
   "cell_type": "code",
   "execution_count": null,
   "metadata": {
    "collapsed": true
   },
   "outputs": [],
   "source": []
  },
  {
   "cell_type": "code",
   "execution_count": null,
   "metadata": {
    "collapsed": true
   },
   "outputs": [],
   "source": []
  },
  {
   "cell_type": "code",
   "execution_count": null,
   "metadata": {
    "collapsed": true
   },
   "outputs": [],
   "source": []
  },
  {
   "cell_type": "code",
   "execution_count": null,
   "metadata": {
    "collapsed": true
   },
   "outputs": [],
   "source": []
  }
 ],
 "metadata": {
  "kernelspec": {
   "display_name": "Python 3",
   "language": "python",
   "name": "python3"
  },
  "language_info": {
   "codemirror_mode": {
    "name": "ipython",
    "version": 3
   },
   "file_extension": ".py",
   "mimetype": "text/x-python",
   "name": "python",
   "nbconvert_exporter": "python",
   "pygments_lexer": "ipython3",
   "version": "3.6.2"
  }
 },
 "nbformat": 4,
 "nbformat_minor": 2
}
